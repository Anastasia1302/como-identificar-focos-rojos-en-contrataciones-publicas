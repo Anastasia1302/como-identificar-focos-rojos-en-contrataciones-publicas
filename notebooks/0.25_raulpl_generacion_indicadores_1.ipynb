{
 "cells": [
  {
   "cell_type": "code",
   "execution_count": 1,
   "metadata": {
    "ExecuteTime": {
     "end_time": "2017-10-31T23:46:59.904646Z",
     "start_time": "2017-10-31T23:46:59.534233Z"
    }
   },
   "outputs": [],
   "source": [
    "import os\n",
    "import re\n",
    "import glob\n",
    "import feather\n",
    "import numpy as np\n",
    "import pandas as pd\n",
    "import unicodedata\n",
    "import matplotlib.pyplot as plt\n",
    "from itertools import product\n",
    "from functools import partial\n",
    "from pathlib import Path\n",
    "\n",
    "# # dask\n",
    "# import dask\n",
    "# import dask.dataframe as dd\n",
    "# from dask.distributed import Client\n",
    "\n",
    "from src.clean_data import clean_rfc_fantasma, clean_sancionados, clean_rupc\n",
    "\n",
    "# features generales\n",
    "from src.features_general import (\n",
    "    monto_por_unidad_compradora,\n",
    "    proveedores_distintos,\n",
    "    procedimientos_distintos,\n",
    "    numero_de_contratos,\n",
    ")\n",
    "\n",
    "# features competencia\n",
    "from src.features_competencia import (\n",
    "    contratos_por_proveedor,\n",
    "    porcentaje_procedimientos_por_tipo,\n",
    "    porcentaje_monto_tipo_procedimiento,\n",
    "    importe_promedio_por_contrato,\n",
    "    calcular_IHH_ID_contratos,\n",
    "    calcular_IHH_ID_monto,\n",
    ")\n",
    "\n",
    "# features transparencia\n",
    "from src.features_transparencia import (\n",
    "    porcentaje_procedimientos_presenciales,\n",
    "    contratos_promedio_por_procedimimento,\n",
    "    contratos_por_duracion,\n",
    "    monto_por_duracion,\n",
    "    promedio_datos_faltantes_poc_contrato,\n",
    ")\n",
    "\n",
    "# features anomalias\n",
    "from src.features_anomalias import (\n",
    "    interaccion_rfc_fantasma,\n",
    "    interaccion_sancionados,\n",
    "    porcentaje_contratos_por_convenio\n",
    ")\n",
    "\n",
    "pd.set_option('display.max_rows', 100)\n",
    "pd.set_option('display.max_columns', 100)\n",
    "\n",
    "%matplotlib inline\n",
    "%config IPCompleter.use_jedi = False"
   ]
  },
  {
   "cell_type": "markdown",
   "metadata": {},
   "source": [
    "## Cargar tabla procedimientos"
   ]
  },
  {
   "cell_type": "code",
   "execution_count": 2,
   "metadata": {
    "ExecuteTime": {
     "end_time": "2017-10-31T23:47:12.194208Z",
     "start_time": "2017-10-31T23:47:07.039359Z"
    }
   },
   "outputs": [
    {
     "name": "stdout",
     "output_type": "stream",
     "text": [
      "(1014554, 47)\n",
      "(884997, 45)\n",
      "(884960, 45)\n"
     ]
    },
    {
     "data": {
      "text/html": [
       "<div>\n",
       "<style scoped>\n",
       "    .dataframe tbody tr th:only-of-type {\n",
       "        vertical-align: middle;\n",
       "    }\n",
       "\n",
       "    .dataframe tbody tr th {\n",
       "        vertical-align: top;\n",
       "    }\n",
       "\n",
       "    .dataframe thead th {\n",
       "        text-align: right;\n",
       "    }\n",
       "</style>\n",
       "<table border=\"1\" class=\"dataframe\">\n",
       "  <thead>\n",
       "    <tr style=\"text-align: right;\">\n",
       "      <th></th>\n",
       "      <th>DEPENDENCIA</th>\n",
       "      <th>SIGLAS</th>\n",
       "      <th>NOMBRE_DE_LA_UC</th>\n",
       "      <th>CLAVEUC</th>\n",
       "      <th>RESPONSABLE</th>\n",
       "      <th>ESTRATIFICACION_MUC</th>\n",
       "      <th>FOLIO_RUPC</th>\n",
       "      <th>PROVEEDOR_CONTRATISTA</th>\n",
       "      <th>ESTATUS_EMPRESA</th>\n",
       "      <th>ESTRATIFICACION_MPC</th>\n",
       "      <th>IMPORTE_CONTRATO</th>\n",
       "      <th>APORTACION_FEDERAL</th>\n",
       "      <th>MONEDA</th>\n",
       "      <th>NUMERO_PROCEDIMIENTO</th>\n",
       "      <th>FORMA_PROCEDIMIENTO</th>\n",
       "      <th>TIPO_PROCEDIMIENTO</th>\n",
       "      <th>CODIGO_CONTRATO</th>\n",
       "      <th>TITULO_CONTRATO</th>\n",
       "      <th>IDENTIFICADOR_CM</th>\n",
       "      <th>TIPO_CONTRATACION</th>\n",
       "      <th>ESTATUS_CONTRATO</th>\n",
       "      <th>COMPRA_CONSOLIDADA</th>\n",
       "      <th>PLURIANUAL</th>\n",
       "      <th>CARACTER</th>\n",
       "      <th>CONTRATO_MARCO</th>\n",
       "      <th>CONVENIO_MODIFICATORIO</th>\n",
       "      <th>PROC_F_PUBLICACION</th>\n",
       "      <th>FECHA_APERTURA_PROPOSICIONES</th>\n",
       "      <th>EXP_F_FALLO</th>\n",
       "      <th>FECHA_CELEBRACION</th>\n",
       "      <th>FECHA_INICIO</th>\n",
       "      <th>FECHA_FIN</th>\n",
       "      <th>CODIGO_EXPEDIENTE</th>\n",
       "      <th>TITULO_EXPEDIENTE</th>\n",
       "      <th>PLANTILLA_EXPEDIENTE</th>\n",
       "      <th>CLAVE_PROGRAMA</th>\n",
       "      <th>CUENTA_ADMINISTRADA_POR</th>\n",
       "      <th>ANUNCIO</th>\n",
       "      <th>ARCHIVADO</th>\n",
       "      <th>SIGLAS_PAIS</th>\n",
       "      <th>RAMO</th>\n",
       "      <th>ORGANISMO</th>\n",
       "      <th>C_EXTERNO</th>\n",
       "      <th>FECHA_ARCHIVO</th>\n",
       "      <th>IMPORTE_PESOS</th>\n",
       "    </tr>\n",
       "  </thead>\n",
       "  <tbody>\n",
       "    <tr>\n",
       "      <th>70</th>\n",
       "      <td>AEROPUERTOS Y SERVICIOS AUXILIARES</td>\n",
       "      <td>ASA</td>\n",
       "      <td>ASA-ESTACION DE COMBUSTIBLES DEL AEROPUERTO DE...</td>\n",
       "      <td>009JZL032</td>\n",
       "      <td>JOSE LUIS ALMADA PENUNURI</td>\n",
       "      <td>MICRO</td>\n",
       "      <td>nan</td>\n",
       "      <td>MULTISERVICIOS Y ASESORIAS DEL CARIBE</td>\n",
       "      <td>HABILITADO</td>\n",
       "      <td>None</td>\n",
       "      <td>319200.0</td>\n",
       "      <td>NaN</td>\n",
       "      <td>MXN</td>\n",
       "      <td>IA-009JZL032-N1-2012</td>\n",
       "      <td>MIXTA</td>\n",
       "      <td>INVITACION A CUANDO MENOS TRES</td>\n",
       "      <td>165782</td>\n",
       "      <td>SERVICIO DE LIMPIEZA CZM 2012</td>\n",
       "      <td>None</td>\n",
       "      <td>ADQUISICIONES</td>\n",
       "      <td>EXPIRADO</td>\n",
       "      <td>0.0</td>\n",
       "      <td>0.0</td>\n",
       "      <td>NACIONAL</td>\n",
       "      <td>0.0</td>\n",
       "      <td>SI</td>\n",
       "      <td>NaT</td>\n",
       "      <td>2011-12-16 00:00:00</td>\n",
       "      <td>2011-12-19</td>\n",
       "      <td>NaT</td>\n",
       "      <td>2012-01-01</td>\n",
       "      <td>2013-02-28</td>\n",
       "      <td>115807</td>\n",
       "      <td>SERVICIO DE LIMPIEZA CZM 2012</td>\n",
       "      <td>Z15122015 04 INVITACION A CUANDO MENOS TRES NA...</td>\n",
       "      <td>None</td>\n",
       "      <td>UC</td>\n",
       "      <td>https://compranet.funcionpublica.gob.mx/esop/g...</td>\n",
       "      <td>Si</td>\n",
       "      <td>MX</td>\n",
       "      <td>NaN</td>\n",
       "      <td>None</td>\n",
       "      <td>NaN</td>\n",
       "      <td>2012</td>\n",
       "      <td>319200.0</td>\n",
       "    </tr>\n",
       "    <tr>\n",
       "      <th>71</th>\n",
       "      <td>AEROPUERTOS Y SERVICIOS AUXILIARES</td>\n",
       "      <td>ASA</td>\n",
       "      <td>ASA-ESTACION DE COMBUSTIBLES DEL AEROPUERTO DE...</td>\n",
       "      <td>009JZL032</td>\n",
       "      <td>JOSE LUIS ALMADA PENUNURI</td>\n",
       "      <td>MICRO</td>\n",
       "      <td>nan</td>\n",
       "      <td>ALEJANDRO ALARCON JIMON</td>\n",
       "      <td>HABILITADO</td>\n",
       "      <td>None</td>\n",
       "      <td>26097.0</td>\n",
       "      <td>NaN</td>\n",
       "      <td>MXN</td>\n",
       "      <td>AA-009JZL032-N4-2012</td>\n",
       "      <td>PRESENCIAL</td>\n",
       "      <td>ADJUDICACION DIRECTA</td>\n",
       "      <td>165738</td>\n",
       "      <td>MANTENIMIENTO A EXTINTORES CZM</td>\n",
       "      <td>None</td>\n",
       "      <td>SERVICIOS</td>\n",
       "      <td>EXPIRADO</td>\n",
       "      <td>0.0</td>\n",
       "      <td>0.0</td>\n",
       "      <td>NACIONAL</td>\n",
       "      <td>0.0</td>\n",
       "      <td>NO</td>\n",
       "      <td>2012-08-10 15:59:00</td>\n",
       "      <td>2012-08-10 16:05:00</td>\n",
       "      <td>NaT</td>\n",
       "      <td>2012-08-20</td>\n",
       "      <td>2012-08-26</td>\n",
       "      <td>2012-12-31</td>\n",
       "      <td>242370</td>\n",
       "      <td>SERVICIO DE MANTENIMIENTO A EXTINTORES AD CZM ...</td>\n",
       "      <td>Z15122015 07 ADJUDICACION DIRECTA NACIONAL ART...</td>\n",
       "      <td>None</td>\n",
       "      <td>UC</td>\n",
       "      <td>https://compranet.funcionpublica.gob.mx/esop/g...</td>\n",
       "      <td>Si</td>\n",
       "      <td>MX</td>\n",
       "      <td>NaN</td>\n",
       "      <td>None</td>\n",
       "      <td>NaN</td>\n",
       "      <td>2012</td>\n",
       "      <td>26097.0</td>\n",
       "    </tr>\n",
       "    <tr>\n",
       "      <th>72</th>\n",
       "      <td>AEROPUERTOS Y SERVICIOS AUXILIARES</td>\n",
       "      <td>ASA</td>\n",
       "      <td>ASA-ESTACION DE COMBUSTIBLES DEL AEROPUERTO DE...</td>\n",
       "      <td>009JZL032</td>\n",
       "      <td>JOSE LUIS ALMADA PENUNURI</td>\n",
       "      <td>MICRO</td>\n",
       "      <td>5578</td>\n",
       "      <td>TRANSPORTE ESPECIALIZADO DE PERSONAL NACIONAL</td>\n",
       "      <td>HABILITADO</td>\n",
       "      <td>MEDIANA</td>\n",
       "      <td>361200.0</td>\n",
       "      <td>NaN</td>\n",
       "      <td>MXN</td>\n",
       "      <td>IA-009JZL032-N2-2012</td>\n",
       "      <td>MIXTA</td>\n",
       "      <td>INVITACION A CUANDO MENOS TRES</td>\n",
       "      <td>148131</td>\n",
       "      <td>SERVICIO DE TRANSPORTE DE PERSONAL DE LA ESTAC...</td>\n",
       "      <td>None</td>\n",
       "      <td>SERVICIOS</td>\n",
       "      <td>EXPIRADO</td>\n",
       "      <td>0.0</td>\n",
       "      <td>0.0</td>\n",
       "      <td>NACIONAL</td>\n",
       "      <td>0.0</td>\n",
       "      <td>SI</td>\n",
       "      <td>2011-12-09 14:51:00</td>\n",
       "      <td>2011-12-16 14:00:00</td>\n",
       "      <td>2011-12-19</td>\n",
       "      <td>NaT</td>\n",
       "      <td>2012-01-01</td>\n",
       "      <td>2013-02-28</td>\n",
       "      <td>116667</td>\n",
       "      <td>SERVICIO DE TRANSPORTE DE PERSONAL CZM 2012</td>\n",
       "      <td>Z15122015 04 INVITACION A CUANDO MENOS TRES NA...</td>\n",
       "      <td>None</td>\n",
       "      <td>PoC</td>\n",
       "      <td>https://compranet.funcionpublica.gob.mx/esop/g...</td>\n",
       "      <td>Si</td>\n",
       "      <td>MX</td>\n",
       "      <td>NaN</td>\n",
       "      <td>None</td>\n",
       "      <td>NaN</td>\n",
       "      <td>2012</td>\n",
       "      <td>361200.0</td>\n",
       "    </tr>\n",
       "    <tr>\n",
       "      <th>73</th>\n",
       "      <td>AEROPUERTOS Y SERVICIOS AUXILIARES</td>\n",
       "      <td>ASA</td>\n",
       "      <td>ASA-ESTACION DE COMBUSTIBLES DEL AEROPUERTO DE...</td>\n",
       "      <td>009JZL032</td>\n",
       "      <td>JOSE LUIS ALMADA PENUNURI</td>\n",
       "      <td>MICRO</td>\n",
       "      <td>nan</td>\n",
       "      <td>COMERCIALIZADORA EL MAHARAJA</td>\n",
       "      <td>HABILITADO</td>\n",
       "      <td>None</td>\n",
       "      <td>334264.0</td>\n",
       "      <td>NaN</td>\n",
       "      <td>MXN</td>\n",
       "      <td>AA-009JZL032-N5-2011</td>\n",
       "      <td>MIXTA</td>\n",
       "      <td>ADJUDICACION DIRECTA</td>\n",
       "      <td>276283</td>\n",
       "      <td>SERVICIO DE COMEDOR DEL PERSONAL DE LA ESTACIO...</td>\n",
       "      <td>None</td>\n",
       "      <td>ADQUISICIONES</td>\n",
       "      <td>EXPIRADO</td>\n",
       "      <td>0.0</td>\n",
       "      <td>0.0</td>\n",
       "      <td>NACIONAL</td>\n",
       "      <td>0.0</td>\n",
       "      <td>SI</td>\n",
       "      <td>2011-12-28 12:45:00</td>\n",
       "      <td>2011-12-28 17:00:00</td>\n",
       "      <td>NaT</td>\n",
       "      <td>NaT</td>\n",
       "      <td>2012-01-01</td>\n",
       "      <td>2013-02-28</td>\n",
       "      <td>123933</td>\n",
       "      <td>SERVICIO DE COMEDOR AD CZM 2012</td>\n",
       "      <td>Z15122015 07 ADJUDICACION DIRECTA NACIONAL ART...</td>\n",
       "      <td>None</td>\n",
       "      <td>UC</td>\n",
       "      <td>https://compranet.funcionpublica.gob.mx/esop/g...</td>\n",
       "      <td>Si</td>\n",
       "      <td>MX</td>\n",
       "      <td>NaN</td>\n",
       "      <td>None</td>\n",
       "      <td>NaN</td>\n",
       "      <td>2012</td>\n",
       "      <td>334264.0</td>\n",
       "    </tr>\n",
       "    <tr>\n",
       "      <th>74</th>\n",
       "      <td>AEROPUERTOS Y SERVICIOS AUXILIARES</td>\n",
       "      <td>ASA</td>\n",
       "      <td>ASA-ESTACION DE COMBUSTIBLES DEL AEROPUERTO DE...</td>\n",
       "      <td>009JZL032</td>\n",
       "      <td>JOSE LUIS ALMADA PENUNURI</td>\n",
       "      <td>MEDIANA</td>\n",
       "      <td>nan</td>\n",
       "      <td>COMERCIALIZADORA EL MAHARAJA</td>\n",
       "      <td>HABILITADO</td>\n",
       "      <td>None</td>\n",
       "      <td>285948.0</td>\n",
       "      <td>NaN</td>\n",
       "      <td>MXN</td>\n",
       "      <td>AA-009JZL032-N5-2011</td>\n",
       "      <td>MIXTA</td>\n",
       "      <td>ADJUDICACION DIRECTA</td>\n",
       "      <td>148083</td>\n",
       "      <td>SERVICIO DE COMEDOR PARA EL PERSONAL DE LA EST...</td>\n",
       "      <td>None</td>\n",
       "      <td>SERVICIOS</td>\n",
       "      <td>EXPIRADO</td>\n",
       "      <td>0.0</td>\n",
       "      <td>0.0</td>\n",
       "      <td>NACIONAL</td>\n",
       "      <td>NaN</td>\n",
       "      <td>NO</td>\n",
       "      <td>2011-12-28 12:45:00</td>\n",
       "      <td>2011-12-28 17:00:00</td>\n",
       "      <td>NaT</td>\n",
       "      <td>2011-12-30</td>\n",
       "      <td>2012-01-01</td>\n",
       "      <td>2012-12-31</td>\n",
       "      <td>123933</td>\n",
       "      <td>SERVICIO DE COMEDOR AD CZM 2012</td>\n",
       "      <td>Z15122015 07 ADJUDICACION DIRECTA NACIONAL ART...</td>\n",
       "      <td>None</td>\n",
       "      <td>UC</td>\n",
       "      <td>https://compranet.funcionpublica.gob.mx/esop/g...</td>\n",
       "      <td>Si</td>\n",
       "      <td>MX</td>\n",
       "      <td>NaN</td>\n",
       "      <td>None</td>\n",
       "      <td>NaN</td>\n",
       "      <td>2012</td>\n",
       "      <td>285948.0</td>\n",
       "    </tr>\n",
       "  </tbody>\n",
       "</table>\n",
       "</div>"
      ],
      "text/plain": [
       "                           DEPENDENCIA SIGLAS  \\\n",
       "70  AEROPUERTOS Y SERVICIOS AUXILIARES    ASA   \n",
       "71  AEROPUERTOS Y SERVICIOS AUXILIARES    ASA   \n",
       "72  AEROPUERTOS Y SERVICIOS AUXILIARES    ASA   \n",
       "73  AEROPUERTOS Y SERVICIOS AUXILIARES    ASA   \n",
       "74  AEROPUERTOS Y SERVICIOS AUXILIARES    ASA   \n",
       "\n",
       "                                      NOMBRE_DE_LA_UC    CLAVEUC  \\\n",
       "70  ASA-ESTACION DE COMBUSTIBLES DEL AEROPUERTO DE...  009JZL032   \n",
       "71  ASA-ESTACION DE COMBUSTIBLES DEL AEROPUERTO DE...  009JZL032   \n",
       "72  ASA-ESTACION DE COMBUSTIBLES DEL AEROPUERTO DE...  009JZL032   \n",
       "73  ASA-ESTACION DE COMBUSTIBLES DEL AEROPUERTO DE...  009JZL032   \n",
       "74  ASA-ESTACION DE COMBUSTIBLES DEL AEROPUERTO DE...  009JZL032   \n",
       "\n",
       "                  RESPONSABLE ESTRATIFICACION_MUC FOLIO_RUPC  \\\n",
       "70  JOSE LUIS ALMADA PENUNURI               MICRO        nan   \n",
       "71  JOSE LUIS ALMADA PENUNURI               MICRO        nan   \n",
       "72  JOSE LUIS ALMADA PENUNURI               MICRO       5578   \n",
       "73  JOSE LUIS ALMADA PENUNURI               MICRO        nan   \n",
       "74  JOSE LUIS ALMADA PENUNURI             MEDIANA        nan   \n",
       "\n",
       "                            PROVEEDOR_CONTRATISTA ESTATUS_EMPRESA  \\\n",
       "70          MULTISERVICIOS Y ASESORIAS DEL CARIBE      HABILITADO   \n",
       "71                        ALEJANDRO ALARCON JIMON      HABILITADO   \n",
       "72  TRANSPORTE ESPECIALIZADO DE PERSONAL NACIONAL      HABILITADO   \n",
       "73                   COMERCIALIZADORA EL MAHARAJA      HABILITADO   \n",
       "74                   COMERCIALIZADORA EL MAHARAJA      HABILITADO   \n",
       "\n",
       "   ESTRATIFICACION_MPC  IMPORTE_CONTRATO  APORTACION_FEDERAL MONEDA  \\\n",
       "70                None          319200.0                 NaN    MXN   \n",
       "71                None           26097.0                 NaN    MXN   \n",
       "72             MEDIANA          361200.0                 NaN    MXN   \n",
       "73                None          334264.0                 NaN    MXN   \n",
       "74                None          285948.0                 NaN    MXN   \n",
       "\n",
       "    NUMERO_PROCEDIMIENTO FORMA_PROCEDIMIENTO              TIPO_PROCEDIMIENTO  \\\n",
       "70  IA-009JZL032-N1-2012               MIXTA  INVITACION A CUANDO MENOS TRES   \n",
       "71  AA-009JZL032-N4-2012          PRESENCIAL            ADJUDICACION DIRECTA   \n",
       "72  IA-009JZL032-N2-2012               MIXTA  INVITACION A CUANDO MENOS TRES   \n",
       "73  AA-009JZL032-N5-2011               MIXTA            ADJUDICACION DIRECTA   \n",
       "74  AA-009JZL032-N5-2011               MIXTA            ADJUDICACION DIRECTA   \n",
       "\n",
       "   CODIGO_CONTRATO                                    TITULO_CONTRATO  \\\n",
       "70          165782                      SERVICIO DE LIMPIEZA CZM 2012   \n",
       "71          165738                     MANTENIMIENTO A EXTINTORES CZM   \n",
       "72          148131  SERVICIO DE TRANSPORTE DE PERSONAL DE LA ESTAC...   \n",
       "73          276283  SERVICIO DE COMEDOR DEL PERSONAL DE LA ESTACIO...   \n",
       "74          148083  SERVICIO DE COMEDOR PARA EL PERSONAL DE LA EST...   \n",
       "\n",
       "   IDENTIFICADOR_CM TIPO_CONTRATACION ESTATUS_CONTRATO  COMPRA_CONSOLIDADA  \\\n",
       "70             None     ADQUISICIONES         EXPIRADO                 0.0   \n",
       "71             None         SERVICIOS         EXPIRADO                 0.0   \n",
       "72             None         SERVICIOS         EXPIRADO                 0.0   \n",
       "73             None     ADQUISICIONES         EXPIRADO                 0.0   \n",
       "74             None         SERVICIOS         EXPIRADO                 0.0   \n",
       "\n",
       "    PLURIANUAL  CARACTER  CONTRATO_MARCO CONVENIO_MODIFICATORIO  \\\n",
       "70         0.0  NACIONAL             0.0                     SI   \n",
       "71         0.0  NACIONAL             0.0                     NO   \n",
       "72         0.0  NACIONAL             0.0                     SI   \n",
       "73         0.0  NACIONAL             0.0                     SI   \n",
       "74         0.0  NACIONAL             NaN                     NO   \n",
       "\n",
       "    PROC_F_PUBLICACION FECHA_APERTURA_PROPOSICIONES EXP_F_FALLO  \\\n",
       "70                 NaT          2011-12-16 00:00:00  2011-12-19   \n",
       "71 2012-08-10 15:59:00          2012-08-10 16:05:00         NaT   \n",
       "72 2011-12-09 14:51:00          2011-12-16 14:00:00  2011-12-19   \n",
       "73 2011-12-28 12:45:00          2011-12-28 17:00:00         NaT   \n",
       "74 2011-12-28 12:45:00          2011-12-28 17:00:00         NaT   \n",
       "\n",
       "   FECHA_CELEBRACION FECHA_INICIO  FECHA_FIN CODIGO_EXPEDIENTE  \\\n",
       "70               NaT   2012-01-01 2013-02-28            115807   \n",
       "71        2012-08-20   2012-08-26 2012-12-31            242370   \n",
       "72               NaT   2012-01-01 2013-02-28            116667   \n",
       "73               NaT   2012-01-01 2013-02-28            123933   \n",
       "74        2011-12-30   2012-01-01 2012-12-31            123933   \n",
       "\n",
       "                                    TITULO_EXPEDIENTE  \\\n",
       "70                      SERVICIO DE LIMPIEZA CZM 2012   \n",
       "71  SERVICIO DE MANTENIMIENTO A EXTINTORES AD CZM ...   \n",
       "72        SERVICIO DE TRANSPORTE DE PERSONAL CZM 2012   \n",
       "73                    SERVICIO DE COMEDOR AD CZM 2012   \n",
       "74                    SERVICIO DE COMEDOR AD CZM 2012   \n",
       "\n",
       "                                 PLANTILLA_EXPEDIENTE CLAVE_PROGRAMA  \\\n",
       "70  Z15122015 04 INVITACION A CUANDO MENOS TRES NA...           None   \n",
       "71  Z15122015 07 ADJUDICACION DIRECTA NACIONAL ART...           None   \n",
       "72  Z15122015 04 INVITACION A CUANDO MENOS TRES NA...           None   \n",
       "73  Z15122015 07 ADJUDICACION DIRECTA NACIONAL ART...           None   \n",
       "74  Z15122015 07 ADJUDICACION DIRECTA NACIONAL ART...           None   \n",
       "\n",
       "   CUENTA_ADMINISTRADA_POR                                            ANUNCIO  \\\n",
       "70                      UC  https://compranet.funcionpublica.gob.mx/esop/g...   \n",
       "71                      UC  https://compranet.funcionpublica.gob.mx/esop/g...   \n",
       "72                     PoC  https://compranet.funcionpublica.gob.mx/esop/g...   \n",
       "73                      UC  https://compranet.funcionpublica.gob.mx/esop/g...   \n",
       "74                      UC  https://compranet.funcionpublica.gob.mx/esop/g...   \n",
       "\n",
       "   ARCHIVADO SIGLAS_PAIS  RAMO ORGANISMO  C_EXTERNO  FECHA_ARCHIVO  \\\n",
       "70        Si          MX   NaN      None        NaN           2012   \n",
       "71        Si          MX   NaN      None        NaN           2012   \n",
       "72        Si          MX   NaN      None        NaN           2012   \n",
       "73        Si          MX   NaN      None        NaN           2012   \n",
       "74        Si          MX   NaN      None        NaN           2012   \n",
       "\n",
       "    IMPORTE_PESOS  \n",
       "70       319200.0  \n",
       "71        26097.0  \n",
       "72       361200.0  \n",
       "73       334264.0  \n",
       "74       285948.0  "
      ]
     },
     "execution_count": 2,
     "metadata": {},
     "output_type": "execute_result"
    }
   ],
   "source": [
    "df_procedimientos = feather.read_dataframe(\n",
    "    '../data/bases/procedimientos_all_2017_10_29.feather', nthreads=7)\n",
    "print(df_procedimientos.shape)\n",
    "df_procedimientos = df_procedimientos.loc[df_procedimientos.GOBIERNO == 'APF', :]\n",
    "df_procedimientos = df_procedimientos.drop('GOBIERNO', axis=1)\n",
    "df_procedimientos = df_procedimientos.assign(CLAVEUC=df_procedimientos.CLAVEUC_REAL)\n",
    "df_procedimientos = df_procedimientos.drop('CLAVEUC_REAL', axis=1)\n",
    "df_procedimientos = df_procedimientos.loc[~df_procedimientos.PROVEEDOR_CONTRATISTA.isnull()]\n",
    "print(df_procedimientos.shape)\n",
    "df_procedimientos = df_procedimientos.loc[df_procedimientos.CLAVEUC != 'MISSING']\n",
    "print(df_procedimientos.shape)\n",
    "df_procedimientos.head()"
   ]
  },
  {
   "cell_type": "markdown",
   "metadata": {},
   "source": [
    "## Cargar tabla scraper"
   ]
  },
  {
   "cell_type": "code",
   "execution_count": 3,
   "metadata": {
    "ExecuteTime": {
     "end_time": "2017-10-31T23:19:53.358287Z",
     "start_time": "2017-10-31T23:19:47.657543Z"
    }
   },
   "outputs": [
    {
     "name": "stdout",
     "output_type": "stream",
     "text": [
      "(633906, 14)\n"
     ]
    },
    {
     "data": {
      "text/html": [
       "<div>\n",
       "<style scoped>\n",
       "    .dataframe tbody tr th:only-of-type {\n",
       "        vertical-align: middle;\n",
       "    }\n",
       "\n",
       "    .dataframe tbody tr th {\n",
       "        vertical-align: top;\n",
       "    }\n",
       "\n",
       "    .dataframe thead th {\n",
       "        text-align: right;\n",
       "    }\n",
       "</style>\n",
       "<table border=\"1\" class=\"dataframe\">\n",
       "  <thead>\n",
       "    <tr style=\"text-align: right;\">\n",
       "      <th></th>\n",
       "      <th>CODIGO_EXPEDIENTE</th>\n",
       "      <th>archivo_anexos</th>\n",
       "      <th>archivo_apertura</th>\n",
       "      <th>archivo_contrato</th>\n",
       "      <th>archivo_convocatoria</th>\n",
       "      <th>archivo_fallo</th>\n",
       "      <th>archivo_junta</th>\n",
       "      <th>numero_archivos</th>\n",
       "      <th>numero_convenios</th>\n",
       "      <th>CLAVEUC</th>\n",
       "      <th>NUMERO_PROCEDIMIENTO</th>\n",
       "      <th>TIPO_PROCEDIMIENTO</th>\n",
       "      <th>TIPO_CONTRATACION</th>\n",
       "      <th>numero_contratos</th>\n",
       "    </tr>\n",
       "  </thead>\n",
       "  <tbody>\n",
       "    <tr>\n",
       "      <th>0</th>\n",
       "      <td>599</td>\n",
       "      <td>0</td>\n",
       "      <td>1</td>\n",
       "      <td>0</td>\n",
       "      <td>0</td>\n",
       "      <td>1</td>\n",
       "      <td>1</td>\n",
       "      <td>58</td>\n",
       "      <td>0</td>\n",
       "      <td>018TOQ054</td>\n",
       "      <td>LO-018TOQ054-T2-2010</td>\n",
       "      <td>LICITACION PUBLICA</td>\n",
       "      <td>OBRA PUBLICA</td>\n",
       "      <td>1</td>\n",
       "    </tr>\n",
       "    <tr>\n",
       "      <th>1</th>\n",
       "      <td>1171</td>\n",
       "      <td>0</td>\n",
       "      <td>1</td>\n",
       "      <td>1</td>\n",
       "      <td>1</td>\n",
       "      <td>1</td>\n",
       "      <td>1</td>\n",
       "      <td>6</td>\n",
       "      <td>1</td>\n",
       "      <td>041A00001</td>\n",
       "      <td>LA-010A00001-N3-2011</td>\n",
       "      <td>LICITACION PUBLICA</td>\n",
       "      <td>SERVICIOS</td>\n",
       "      <td>1</td>\n",
       "    </tr>\n",
       "    <tr>\n",
       "      <th>2</th>\n",
       "      <td>1610</td>\n",
       "      <td>0</td>\n",
       "      <td>0</td>\n",
       "      <td>1</td>\n",
       "      <td>0</td>\n",
       "      <td>0</td>\n",
       "      <td>0</td>\n",
       "      <td>3</td>\n",
       "      <td>0</td>\n",
       "      <td>018TOQ999</td>\n",
       "      <td>IA-018TOQ999-I2-2011</td>\n",
       "      <td>INVITACION A CUANDO MENOS TRES</td>\n",
       "      <td>SERVICIOS</td>\n",
       "      <td>1</td>\n",
       "    </tr>\n",
       "  </tbody>\n",
       "</table>\n",
       "</div>"
      ],
      "text/plain": [
       "  CODIGO_EXPEDIENTE  archivo_anexos  archivo_apertura  archivo_contrato  \\\n",
       "0               599               0                 1                 0   \n",
       "1              1171               0                 1                 1   \n",
       "2              1610               0                 0                 1   \n",
       "\n",
       "   archivo_convocatoria  archivo_fallo  archivo_junta  numero_archivos  \\\n",
       "0                     0              1              1               58   \n",
       "1                     1              1              1                6   \n",
       "2                     0              0              0                3   \n",
       "\n",
       "   numero_convenios    CLAVEUC  NUMERO_PROCEDIMIENTO  \\\n",
       "0                 0  018TOQ054  LO-018TOQ054-T2-2010   \n",
       "1                 1  041A00001  LA-010A00001-N3-2011   \n",
       "2                 0  018TOQ999  IA-018TOQ999-I2-2011   \n",
       "\n",
       "               TIPO_PROCEDIMIENTO TIPO_CONTRATACION  numero_contratos  \n",
       "0              LICITACION PUBLICA      OBRA PUBLICA                 1  \n",
       "1              LICITACION PUBLICA         SERVICIOS                 1  \n",
       "2  INVITACION A CUANDO MENOS TRES         SERVICIOS                 1  "
      ]
     },
     "execution_count": 3,
     "metadata": {},
     "output_type": "execute_result"
    }
   ],
   "source": [
    "cols_scraper = [\n",
    "    'CODIGO_EXPEDIENTE',\n",
    "    'archivo_anexos', 'archivo_apertura',\n",
    "    'archivo_contrato', 'archivo_convocatoria',\n",
    "    'archivo_fallo', 'archivo_junta',\n",
    "    'numero_archivos','numero_convenios',\n",
    "    # 'TIPO_PROCEDIMIENTO', 'TIPO_CONTRATACION', 'id_compranet',\n",
    "]\n",
    "\n",
    "df_scraper = pd.read_csv(\n",
    "    '../data/bases/tabla_scraper_2017_10_29.csv',\n",
    "    usecols=cols_scraper, dtype={'CODIGO_EXPEDIENTE': str, 'Year': str}\n",
    ")\n",
    "df_scraper = df_scraper.loc[:, cols_scraper]\n",
    "\n",
    "\n",
    "## Join con procedimientos\n",
    "cols_procs=[\n",
    "    'CLAVEUC', 'NUMERO_PROCEDIMIENTO', 'CODIGO_EXPEDIENTE',\n",
    "    'TIPO_PROCEDIMIENTO', 'TIPO_CONTRATACION'\n",
    "]\n",
    "\n",
    "df_contratos = (df_procedimientos.groupby(['CLAVEUC', 'NUMERO_PROCEDIMIENTO',\n",
    "                                           'CODIGO_EXPEDIENTE', 'TIPO_PROCEDIMIENTO',\n",
    "                                           'TIPO_CONTRATACION'], as_index=False).CODIGO_CONTRATO.count()\n",
    "                                 .rename(columns={'CODIGO_CONTRATO': 'numero_contratos'}))\n",
    "\n",
    "df_scraper = pd.merge(df_scraper, df_contratos, on='CODIGO_EXPEDIENTE', how='inner')\n",
    "\n",
    "print(df_scraper.shape)\n",
    "df_scraper.head(3)"
   ]
  },
  {
   "cell_type": "code",
   "execution_count": 4,
   "metadata": {
    "ExecuteTime": {
     "end_time": "2017-10-31T23:19:54.075896Z",
     "start_time": "2017-10-31T23:19:53.359571Z"
    }
   },
   "outputs": [],
   "source": [
    "df_procs_adquisiciones = df_procedimientos.loc[df_procedimientos.TIPO_CONTRATACION == 'ADQUISICIONES']\n",
    "df_procs_servicios = df_procedimientos.loc[df_procedimientos.TIPO_CONTRATACION == 'SERVICIOS']\n",
    "df_procs_obra_publica = df_procedimientos.loc[df_procedimientos.TIPO_CONTRATACION == 'OBRA PUBLICA']\n",
    "df_procs_arrendamientos = df_procedimientos.loc[df_procedimientos.TIPO_CONTRATACION == 'ARRENDAMIENTOS']"
   ]
  },
  {
   "cell_type": "code",
   "execution_count": 4,
   "metadata": {
    "ExecuteTime": {
     "end_time": "2017-10-26T15:41:35.305744Z",
     "start_time": "2017-10-26T15:41:35.112252Z"
    }
   },
   "outputs": [
    {
     "data": {
      "text/plain": [
       "ADQUISICIONES                       459383\n",
       "SERVICIOS                           339353\n",
       "OBRA PUBLICA                         59443\n",
       "SERVICIOS RELACIONADOS CON LA OP     21208\n",
       "ARRENDAMIENTOS                        5573\n",
       "Name: TIPO_CONTRATACION, dtype: int64"
      ]
     },
     "execution_count": 4,
     "metadata": {},
     "output_type": "execute_result"
    }
   ],
   "source": [
    "df_procedimientos.TIPO_PROCEDIMIENTO.value_counts()"
   ]
  },
  {
   "cell_type": "markdown",
   "metadata": {},
   "source": [
    "### Clean rfc fantasma y sancionados"
   ]
  },
  {
   "cell_type": "code",
   "execution_count": 3,
   "metadata": {
    "ExecuteTime": {
     "end_time": "2017-10-31T23:47:17.331772Z",
     "start_time": "2017-10-31T23:47:16.166933Z"
    }
   },
   "outputs": [],
   "source": [
    "# RFC fantasma\n",
    "df_fantasma = pd.read_csv(\n",
    "    '../data/bases/RFC fantasma.csv', parse_dates=['Publicación página SAT definitivos'],\n",
    "    usecols=['RFC', 'Nombre del Contribuyente', 'Publicación página SAT definitivos'],\n",
    "    dtype={'RFC': str, 'Nombre del Contribuyente': str}, encoding='iso-8859-1', skiprows=2\n",
    ")\n",
    "df_fantasma = df_fantasma.rename(columns={'Nombre del Contribuyente': 'Nombre del Contribuyente'.upper()})\n",
    "\n",
    "df_fantasma = df_fantasma.loc[df_fantasma.RFC != 'XXXXXXXXXXXX']\n",
    "df_fantasma = clean_rfc_fantasma(df_fantasma)\n",
    "\n",
    "# Proveedores sancionados\n",
    "df_sancionados = pd.read_excel('../data/bases/SancionProveedoresContratistas.xls')\n",
    "df_sancionados = clean_sancionados(df_sancionados)\n",
    "# Hay un registro con expediente vacío, de la tabla de procedimientos se observa\n",
    "# que los contratos los realizó en 2014\n",
    "df_sancionados.loc[\n",
    "    df_sancionados.PROVEEDOR_CONTRATISTA == 'ALBA MARIA DE LA ASUNCION HERRASTI FERNANDEZ', 'Expediente'\n",
    "] = 'XXXX/2014'\n",
    "df_sancionados = df_sancionados.assign(\n",
    "    Year=df_sancionados.Expediente.map(\n",
    "        lambda x: int(x.split('/')[1])\n",
    "    )\n",
    ")\n",
    "\n",
    "# poner el valor predeterminado para fantasmo y sancionados\n",
    "interaccion_rfc_fantasma = partial(interaccion_rfc_fantasma, df_rfc_fantasma=df_fantasma)\n",
    "interaccion_sancionados = partial(interaccion_sancionados, df_sancionados=df_sancionados)"
   ]
  },
  {
   "cell_type": "markdown",
   "metadata": {},
   "source": [
    "## Features scraper "
   ]
  },
  {
   "cell_type": "code",
   "execution_count": 5,
   "metadata": {
    "ExecuteTime": {
     "end_time": "2017-10-31T20:23:27.524320Z",
     "start_time": "2017-10-31T20:23:27.266931Z"
    }
   },
   "outputs": [
    {
     "name": "stdout",
     "output_type": "stream",
     "text": [
      "278722 275608\n"
     ]
    }
   ],
   "source": [
    "df_scraper_adquisiciones = df_scraper.loc[df_scraper.TIPO_CONTRATACION == 'ADQUISICIONES']\n",
    "df_scraper_servicios = df_scraper.loc[df_scraper.TIPO_CONTRATACION == 'SERVICIOS']\n",
    "# 'OBRA PUBLICA', 'ARRENDAMIENTOS', 'SERVICIOS RELACIONADOS CON LA OP'\n",
    "print(df_scraper_adquisiciones.shape[0], df_scraper_servicios.shape[0])"
   ]
  },
  {
   "cell_type": "code",
   "execution_count": 51,
   "metadata": {
    "ExecuteTime": {
     "end_time": "2017-10-31T22:11:06.983661Z",
     "start_time": "2017-10-31T22:11:06.913842Z"
    }
   },
   "outputs": [
    {
     "name": "stdout",
     "output_type": "stream",
     "text": [
      "1502\n",
      "(1502, 2)\n"
     ]
    },
    {
     "data": {
      "text/html": [
       "<div>\n",
       "<style scoped>\n",
       "    .dataframe tbody tr th:only-of-type {\n",
       "        vertical-align: middle;\n",
       "    }\n",
       "\n",
       "    .dataframe tbody tr th {\n",
       "        vertical-align: top;\n",
       "    }\n",
       "\n",
       "    .dataframe thead th {\n",
       "        text-align: right;\n",
       "    }\n",
       "</style>\n",
       "<table border=\"1\" class=\"dataframe\">\n",
       "  <thead>\n",
       "    <tr style=\"text-align: right;\">\n",
       "      <th></th>\n",
       "      <th>CLAVEUC</th>\n",
       "      <th>promedio_convenios</th>\n",
       "    </tr>\n",
       "  </thead>\n",
       "  <tbody>\n",
       "    <tr>\n",
       "      <th>962</th>\n",
       "      <td>020VSS006</td>\n",
       "      <td>8.000000</td>\n",
       "    </tr>\n",
       "    <tr>\n",
       "      <th>315</th>\n",
       "      <td>006HBW005</td>\n",
       "      <td>8.000000</td>\n",
       "    </tr>\n",
       "    <tr>\n",
       "      <th>53</th>\n",
       "      <td>019GYR011</td>\n",
       "      <td>5.500000</td>\n",
       "    </tr>\n",
       "    <tr>\n",
       "      <th>209</th>\n",
       "      <td>018T4I008</td>\n",
       "      <td>5.000000</td>\n",
       "    </tr>\n",
       "    <tr>\n",
       "      <th>487</th>\n",
       "      <td>018TOQ934</td>\n",
       "      <td>4.333333</td>\n",
       "    </tr>\n",
       "  </tbody>\n",
       "</table>\n",
       "</div>"
      ],
      "text/plain": [
       "       CLAVEUC  promedio_convenios\n",
       "962  020VSS006            8.000000\n",
       "315  006HBW005            8.000000\n",
       "53   019GYR011            5.500000\n",
       "209  018T4I008            5.000000\n",
       "487  018TOQ934            4.333333"
      ]
     },
     "execution_count": 51,
     "metadata": {},
     "output_type": "execute_result"
    }
   ],
   "source": [
    "df_test = promedio_convenios_por_proc(df_scraper_adquisiciones)\n",
    "df_test = df_test.sort_values(df_test.columns[1], ascending=False)\n",
    "print(df_test.shape)\n",
    "df_test.head()"
   ]
  },
  {
   "cell_type": "code",
   "execution_count": 50,
   "metadata": {
    "ExecuteTime": {
     "end_time": "2017-10-31T22:07:20.264708Z",
     "start_time": "2017-10-31T22:07:20.256614Z"
    }
   },
   "outputs": [
    {
     "data": {
      "text/plain": [
       "False    1502\n",
       "Name: promedio_convenios, dtype: int64"
      ]
     },
     "execution_count": 50,
     "metadata": {},
     "output_type": "execute_result"
    }
   ],
   "source": [
    "df_test.promedio_convenios.isnull().value_counts()"
   ]
  },
  {
   "cell_type": "code",
   "execution_count": 42,
   "metadata": {
    "ExecuteTime": {
     "end_time": "2017-10-31T21:52:23.545163Z",
     "start_time": "2017-10-31T21:52:23.539950Z"
    }
   },
   "outputs": [],
   "source": [
    "# df_test = df_scraper.groupby(['CLAVEUC', 'numero_convenios'], as_index=False).CODIGO_EXPEDIENTE.count()\n",
    "# df_test = df_test.rename(columns={'CODIGO_EXPEDIENTE': 'numero_procs'})\n",
    "# df_test = df_test.assign(\n",
    "#     convenio_por_procedimiento=df_test.numero_convenios.divide(df_test.numero_procs)\n",
    "# )\n",
    "# # df_test = df_test.pivot(index='CLAVEUC', columns='numero_convenios', values='CODIGO_EXPEDIENTE')\n",
    "# # df_test = df_test.fillna(0)\n",
    "# print(df_test.shape)\n",
    "# df_test"
   ]
  },
  {
   "cell_type": "code",
   "execution_count": 31,
   "metadata": {
    "ExecuteTime": {
     "end_time": "2017-10-31T21:14:24.365335Z",
     "start_time": "2017-10-31T21:14:24.347160Z"
    }
   },
   "outputs": [
    {
     "data": {
      "text/html": [
       "<div>\n",
       "<style scoped>\n",
       "    .dataframe tbody tr th:only-of-type {\n",
       "        vertical-align: middle;\n",
       "    }\n",
       "\n",
       "    .dataframe tbody tr th {\n",
       "        vertical-align: top;\n",
       "    }\n",
       "\n",
       "    .dataframe thead th {\n",
       "        text-align: right;\n",
       "    }\n",
       "</style>\n",
       "<table border=\"1\" class=\"dataframe\">\n",
       "  <thead>\n",
       "    <tr style=\"text-align: right;\">\n",
       "      <th></th>\n",
       "      <th>CODIGO_EXPEDIENTE</th>\n",
       "      <th>archivo_anexos</th>\n",
       "      <th>archivo_apertura</th>\n",
       "      <th>archivo_contrato</th>\n",
       "      <th>archivo_convocatoria</th>\n",
       "      <th>archivo_fallo</th>\n",
       "      <th>archivo_junta</th>\n",
       "      <th>numero_archivos</th>\n",
       "      <th>numero_convenios</th>\n",
       "      <th>CLAVEUC</th>\n",
       "      <th>NUMERO_PROCEDIMIENTO</th>\n",
       "      <th>TIPO_PROCEDIMIENTO</th>\n",
       "      <th>TIPO_CONTRATACION</th>\n",
       "      <th>numero_contratos</th>\n",
       "    </tr>\n",
       "  </thead>\n",
       "  <tbody>\n",
       "    <tr>\n",
       "      <th>8</th>\n",
       "      <td>2124</td>\n",
       "      <td>0</td>\n",
       "      <td>1</td>\n",
       "      <td>0</td>\n",
       "      <td>1</td>\n",
       "      <td>1</td>\n",
       "      <td>1</td>\n",
       "      <td>5</td>\n",
       "      <td>0</td>\n",
       "      <td>004I00001</td>\n",
       "      <td>LA-004I00001-N6-2011</td>\n",
       "      <td>LICITACION PUBLICA</td>\n",
       "      <td>ADQUISICIONES</td>\n",
       "      <td>2</td>\n",
       "    </tr>\n",
       "    <tr>\n",
       "      <th>10</th>\n",
       "      <td>2979</td>\n",
       "      <td>0</td>\n",
       "      <td>0</td>\n",
       "      <td>0</td>\n",
       "      <td>0</td>\n",
       "      <td>1</td>\n",
       "      <td>0</td>\n",
       "      <td>3</td>\n",
       "      <td>0</td>\n",
       "      <td>019GYR034</td>\n",
       "      <td>SA-019GYR034-N8-2011</td>\n",
       "      <td>ADJUDICACION DIRECTA</td>\n",
       "      <td>ADQUISICIONES</td>\n",
       "      <td>1</td>\n",
       "    </tr>\n",
       "    <tr>\n",
       "      <th>12</th>\n",
       "      <td>3376</td>\n",
       "      <td>0</td>\n",
       "      <td>0</td>\n",
       "      <td>0</td>\n",
       "      <td>0</td>\n",
       "      <td>0</td>\n",
       "      <td>0</td>\n",
       "      <td>0</td>\n",
       "      <td>0</td>\n",
       "      <td>018TOQ010</td>\n",
       "      <td>IA-018TOQ010-N11-2011</td>\n",
       "      <td>INVITACION A CUANDO MENOS TRES</td>\n",
       "      <td>ADQUISICIONES</td>\n",
       "      <td>1</td>\n",
       "    </tr>\n",
       "    <tr>\n",
       "      <th>16</th>\n",
       "      <td>3448</td>\n",
       "      <td>0</td>\n",
       "      <td>0</td>\n",
       "      <td>1</td>\n",
       "      <td>1</td>\n",
       "      <td>1</td>\n",
       "      <td>1</td>\n",
       "      <td>8</td>\n",
       "      <td>0</td>\n",
       "      <td>014000999</td>\n",
       "      <td>LA-014000999-N2-2011</td>\n",
       "      <td>LICITACION PUBLICA</td>\n",
       "      <td>ADQUISICIONES</td>\n",
       "      <td>1</td>\n",
       "    </tr>\n",
       "    <tr>\n",
       "      <th>22</th>\n",
       "      <td>2585</td>\n",
       "      <td>0</td>\n",
       "      <td>0</td>\n",
       "      <td>0</td>\n",
       "      <td>1</td>\n",
       "      <td>1</td>\n",
       "      <td>1</td>\n",
       "      <td>6</td>\n",
       "      <td>0</td>\n",
       "      <td>018TOQ015</td>\n",
       "      <td>LA-018TOQ015-N8-2011</td>\n",
       "      <td>LICITACION PUBLICA</td>\n",
       "      <td>ADQUISICIONES</td>\n",
       "      <td>1</td>\n",
       "    </tr>\n",
       "  </tbody>\n",
       "</table>\n",
       "</div>"
      ],
      "text/plain": [
       "   CODIGO_EXPEDIENTE  archivo_anexos  archivo_apertura  archivo_contrato  \\\n",
       "8               2124               0                 1                 0   \n",
       "10              2979               0                 0                 0   \n",
       "12              3376               0                 0                 0   \n",
       "16              3448               0                 0                 1   \n",
       "22              2585               0                 0                 0   \n",
       "\n",
       "    archivo_convocatoria  archivo_fallo  archivo_junta  numero_archivos  \\\n",
       "8                      1              1              1                5   \n",
       "10                     0              1              0                3   \n",
       "12                     0              0              0                0   \n",
       "16                     1              1              1                8   \n",
       "22                     1              1              1                6   \n",
       "\n",
       "    numero_convenios    CLAVEUC   NUMERO_PROCEDIMIENTO  \\\n",
       "8                  0  004I00001   LA-004I00001-N6-2011   \n",
       "10                 0  019GYR034   SA-019GYR034-N8-2011   \n",
       "12                 0  018TOQ010  IA-018TOQ010-N11-2011   \n",
       "16                 0  014000999   LA-014000999-N2-2011   \n",
       "22                 0  018TOQ015   LA-018TOQ015-N8-2011   \n",
       "\n",
       "                TIPO_PROCEDIMIENTO TIPO_CONTRATACION  numero_contratos  \n",
       "8               LICITACION PUBLICA     ADQUISICIONES                 2  \n",
       "10            ADJUDICACION DIRECTA     ADQUISICIONES                 1  \n",
       "12  INVITACION A CUANDO MENOS TRES     ADQUISICIONES                 1  \n",
       "16              LICITACION PUBLICA     ADQUISICIONES                 1  \n",
       "22              LICITACION PUBLICA     ADQUISICIONES                 1  "
      ]
     },
     "execution_count": 31,
     "metadata": {},
     "output_type": "execute_result"
    }
   ],
   "source": [
    "df_scraper_adquisiciones.head()"
   ]
  },
  {
   "cell_type": "code",
   "execution_count": 25,
   "metadata": {
    "ExecuteTime": {
     "end_time": "2017-10-31T21:00:40.443932Z",
     "start_time": "2017-10-31T21:00:40.438319Z"
    }
   },
   "outputs": [],
   "source": [
    "# df_test.sort_values('pc_sin_junta', ascending=False)"
   ]
  },
  {
   "cell_type": "code",
   "execution_count": 5,
   "metadata": {
    "ExecuteTime": {
     "end_time": "2017-10-31T23:21:48.323557Z",
     "start_time": "2017-10-31T23:21:48.321366Z"
    }
   },
   "outputs": [],
   "source": [
    "# df_procedimientos.loc[df_procedimientos.CLAVEUC == '018T4I017']"
   ]
  },
  {
   "cell_type": "code",
   "execution_count": 6,
   "metadata": {
    "ExecuteTime": {
     "end_time": "2017-10-31T23:21:56.316304Z",
     "start_time": "2017-10-31T23:21:56.311875Z"
    }
   },
   "outputs": [],
   "source": [
    "# 'OBRA PUBLICA', 'ARRENDAMIENTOS', 'SERVICIOS RELACIONADOS CON LA OP', 'ADQUISICIONES'\n",
    "# df_aux = df_scraper.loc[df_scraper.TIPO_CONTRATACION == 'SERVICIOS RELACIONADOS CON LA OP'].copy()\n",
    "# df_test = df_aux.groupby(\n",
    "#     ['CLAVEUC', 'numero_archivos'], as_index=False).CODIGO_EXPEDIENTE.count()\n",
    "# df_test = df_test.pivot(index='CLAVEUC', columns='numero_archivos', values='CODIGO_EXPEDIENTE')\n",
    "# df_test = df_test.fillna(0)\n",
    "\n",
    "# df_test.head()"
   ]
  },
  {
   "cell_type": "code",
   "execution_count": 7,
   "metadata": {
    "ExecuteTime": {
     "end_time": "2017-10-31T23:21:58.836928Z",
     "start_time": "2017-10-31T23:21:58.829863Z"
    }
   },
   "outputs": [],
   "source": [
    "# df_scraper_servicios.head()"
   ]
  },
  {
   "cell_type": "markdown",
   "metadata": {},
   "source": [
    "## feature de columnas faltantes"
   ]
  },
  {
   "cell_type": "code",
   "execution_count": 21,
   "metadata": {
    "ExecuteTime": {
     "end_time": "2017-10-31T17:47:13.299804Z",
     "start_time": "2017-10-31T17:47:13.220125Z"
    }
   },
   "outputs": [
    {
     "data": {
      "text/plain": [
       "ADQUISICIONES                       278722\n",
       "SERVICIOS                           275608\n",
       "OBRA PUBLICA                         55115\n",
       "SERVICIOS RELACIONADOS CON LA OP     19892\n",
       "ARRENDAMIENTOS                        4569\n",
       "Name: TIPO_CONTRATACION, dtype: int64"
      ]
     },
     "execution_count": 21,
     "metadata": {},
     "output_type": "execute_result"
    }
   ],
   "source": [
    "df_scraper.TIPO_CONTRATACION.value_counts(dropna=False)"
   ]
  },
  {
   "cell_type": "code",
   "execution_count": null,
   "metadata": {},
   "outputs": [],
   "source": []
  },
  {
   "cell_type": "code",
   "execution_count": 7,
   "metadata": {
    "ExecuteTime": {
     "end_time": "2017-10-23T21:53:24.578851Z",
     "start_time": "2017-10-23T21:53:24.445413Z"
    }
   },
   "outputs": [],
   "source": [
    "df_test = df_feature.groupby('CLAVEUC', as_index=False).datos_faltantes.mean()"
   ]
  },
  {
   "cell_type": "code",
   "execution_count": 9,
   "metadata": {
    "ExecuteTime": {
     "end_time": "2017-10-23T21:53:53.650424Z",
     "start_time": "2017-10-23T21:53:53.641464Z"
    }
   },
   "outputs": [
    {
     "data": {
      "text/html": [
       "<div>\n",
       "<style>\n",
       "    .dataframe thead tr:only-child th {\n",
       "        text-align: right;\n",
       "    }\n",
       "\n",
       "    .dataframe thead th {\n",
       "        text-align: left;\n",
       "    }\n",
       "\n",
       "    .dataframe tbody tr th {\n",
       "        vertical-align: top;\n",
       "    }\n",
       "</style>\n",
       "<table border=\"1\" class=\"dataframe\">\n",
       "  <thead>\n",
       "    <tr style=\"text-align: right;\">\n",
       "      <th></th>\n",
       "      <th>CLAVEUC</th>\n",
       "      <th>datos_faltantes</th>\n",
       "    </tr>\n",
       "  </thead>\n",
       "  <tbody>\n",
       "    <tr>\n",
       "      <th>738</th>\n",
       "      <td>015QEZ993</td>\n",
       "      <td>6.000000</td>\n",
       "    </tr>\n",
       "    <tr>\n",
       "      <th>655</th>\n",
       "      <td>014000969</td>\n",
       "      <td>5.750000</td>\n",
       "    </tr>\n",
       "    <tr>\n",
       "      <th>486</th>\n",
       "      <td>011000974</td>\n",
       "      <td>5.428571</td>\n",
       "    </tr>\n",
       "    <tr>\n",
       "      <th>151</th>\n",
       "      <td>008000978</td>\n",
       "      <td>5.287879</td>\n",
       "    </tr>\n",
       "    <tr>\n",
       "      <th>750</th>\n",
       "      <td>016000977</td>\n",
       "      <td>5.111111</td>\n",
       "    </tr>\n",
       "  </tbody>\n",
       "</table>\n",
       "</div>"
      ],
      "text/plain": [
       "       CLAVEUC  datos_faltantes\n",
       "738  015QEZ993         6.000000\n",
       "655  014000969         5.750000\n",
       "486  011000974         5.428571\n",
       "151  008000978         5.287879\n",
       "750  016000977         5.111111"
      ]
     },
     "execution_count": 9,
     "metadata": {},
     "output_type": "execute_result"
    }
   ],
   "source": [
    "df_test.sort_values('datos_faltantes', ascending=False).head()"
   ]
  },
  {
   "cell_type": "code",
   "execution_count": 37,
   "metadata": {
    "ExecuteTime": {
     "end_time": "2017-10-31T18:21:46.235623Z",
     "start_time": "2017-10-31T18:21:46.227874Z"
    }
   },
   "outputs": [],
   "source": [
    "# df_procedimientos.loc[df_procedimientos.CLAVEUC == '014000969'].TIPO_PROCEDIMIENTO.value_counts()"
   ]
  },
  {
   "cell_type": "code",
   "execution_count": 36,
   "metadata": {
    "ExecuteTime": {
     "end_time": "2017-10-31T18:21:44.095996Z",
     "start_time": "2017-10-31T18:21:44.089957Z"
    }
   },
   "outputs": [],
   "source": [
    "# df_procedimientos.loc[df_procedimientos.CLAVEUC == '014000969']"
   ]
  },
  {
   "cell_type": "code",
   "execution_count": 35,
   "metadata": {
    "ExecuteTime": {
     "end_time": "2017-10-31T18:21:41.047234Z",
     "start_time": "2017-10-31T18:21:41.044975Z"
    }
   },
   "outputs": [],
   "source": [
    "# df_adj = df_procedimientos.loc[df_procedimientos.TIPO_PROCEDIMIENTO == 'ADJUDICACION DIRECTA FEDERAL']\n",
    "# df_adj.sample(n=100)"
   ]
  },
  {
   "cell_type": "markdown",
   "metadata": {},
   "source": [
    "## Calcular features (Falta agregar a datos generales el scraper para poder filtrar)"
   ]
  },
  {
   "cell_type": "code",
   "execution_count": 4,
   "metadata": {
    "ExecuteTime": {
     "end_time": "2017-10-31T23:49:27.366512Z",
     "start_time": "2017-10-31T23:47:22.900322Z"
    }
   },
   "outputs": [
    {
     "name": "stdout",
     "output_type": "stream",
     "text": [
      "general ADQUISICIONES\n",
      "[(1529, 1), (1529, 1), (1529, 1), (1529, 1)]\n",
      "--------------------------------------------------\n",
      "general SERVICIOS\n",
      "[(1640, 1), (1640, 1), (1640, 1), (1640, 1)]\n",
      "--------------------------------------------------\n",
      "general OBRA PUBLICA\n",
      "[(926, 1), (926, 1), (926, 1), (926, 1)]\n",
      "--------------------------------------------------\n",
      "general ARRENDAMIENTOS\n",
      "[(711, 1), (711, 1), (711, 1), (711, 1)]\n",
      "--------------------------------------------------\n",
      "general SERVICIOS RELACIONADOS CON LA OP\n",
      "[(577, 1), (577, 1), (577, 1), (577, 1)]\n",
      "--------------------------------------------------\n",
      "competencia ADQUISICIONES\n",
      "[(1529, 1), (1529, 6), (1529, 6), (1529, 1), (1529, 2), (1529, 2)]\n",
      "--------------------------------------------------\n",
      "competencia SERVICIOS\n",
      "[(1640, 1), (1640, 6), (1640, 6), (1640, 1), (1640, 2), (1640, 2)]\n",
      "--------------------------------------------------\n",
      "competencia OBRA PUBLICA\n",
      "[(926, 1), (926, 5), (926, 5), (926, 1), (926, 2), (926, 2)]\n",
      "--------------------------------------------------\n",
      "competencia ARRENDAMIENTOS\n",
      "[(711, 1), (711, 4), (711, 4), (711, 1), (711, 2), (711, 2)]\n",
      "--------------------------------------------------\n",
      "competencia SERVICIOS RELACIONADOS CON LA OP\n",
      "[(577, 1), (577, 4), (577, 4), (577, 1), (577, 2), (577, 2)]\n",
      "--------------------------------------------------\n",
      "transparencia ADQUISICIONES\n",
      "[(1529, 1), (1529, 1), (1529, 5), (1529, 5), (1529, 1)]\n",
      "--------------------------------------------------\n",
      "transparencia SERVICIOS\n",
      "[(1640, 1), (1640, 1), (1640, 5), (1640, 5), (1640, 1)]\n",
      "--------------------------------------------------\n",
      "transparencia OBRA PUBLICA\n",
      "[(926, 1), (926, 1), (926, 5), (926, 5), (926, 1)]\n",
      "--------------------------------------------------\n",
      "transparencia ARRENDAMIENTOS\n",
      "[(711, 1), (711, 1), (711, 5), (711, 5), (711, 1)]\n",
      "--------------------------------------------------\n",
      "transparencia SERVICIOS RELACIONADOS CON LA OP\n",
      "[(577, 1), (577, 1), (577, 5), (577, 5), (577, 1)]\n",
      "--------------------------------------------------\n",
      "anomalias ADQUISICIONES\n",
      "[(1529, 3), (1529, 3), (1529, 3)]\n",
      "--------------------------------------------------\n",
      "anomalias SERVICIOS\n",
      "[(1640, 3), (1640, 3), (1640, 3)]\n",
      "--------------------------------------------------\n",
      "anomalias OBRA PUBLICA\n",
      "[(926, 3), (926, 3), (926, 3)]\n",
      "--------------------------------------------------\n",
      "anomalias ARRENDAMIENTOS\n",
      "[(711, 3), (711, 3), (711, 3)]\n",
      "--------------------------------------------------\n",
      "anomalias SERVICIOS RELACIONADOS CON LA OP\n",
      "[(577, 3), (577, 3), (577, 3)]\n",
      "--------------------------------------------------\n"
     ]
    }
   ],
   "source": [
    "funciones_procedimientos = {\n",
    "    'general': [\n",
    "        monto_por_unidad_compradora,\n",
    "        proveedores_distintos,\n",
    "        procedimientos_distintos,\n",
    "        numero_de_contratos,\n",
    "    ],\n",
    "    'competencia': [\n",
    "        contratos_por_proveedor,\n",
    "        porcentaje_procedimientos_por_tipo,\n",
    "        porcentaje_monto_tipo_procedimiento,\n",
    "        importe_promedio_por_contrato,\n",
    "        calcular_IHH_ID_contratos,\n",
    "        calcular_IHH_ID_monto,\n",
    "        \n",
    "    ],\n",
    "    'transparencia': [\n",
    "        porcentaje_procedimientos_presenciales,\n",
    "        contratos_promedio_por_procedimimento,\n",
    "        contratos_por_duracion,\n",
    "        monto_por_duracion,\n",
    "        promedio_datos_faltantes_poc_contrato,\n",
    "    ],\n",
    "    'anomalias': [\n",
    "        interaccion_rfc_fantasma,\n",
    "        interaccion_sancionados,\n",
    "        porcentaje_contratos_por_convenio,\n",
    "    ]\n",
    "}\n",
    "\n",
    "\n",
    "funciones_scraper = {\n",
    "    'general': [\n",
    "        \n",
    "    ],\n",
    "}\n",
    "\n",
    "conceptos = tuple(funciones_procedimientos.keys())\n",
    "\n",
    "tipos_contratacion = (\n",
    "    'ADQUISICIONES',\n",
    "    'SERVICIOS',\n",
    "    'OBRA PUBLICA',\n",
    "    'ARRENDAMIENTOS',\n",
    "    'SERVICIOS RELACIONADOS CON LA OP'\n",
    ")\n",
    "\n",
    "for concepto in conceptos:\n",
    "    for tipo in tipos_contratacion:\n",
    "        # sub-tablas\n",
    "        df_procs_aux = df_procedimientos.loc[\n",
    "            (df_procedimientos.TIPO_CONTRATACION == tipo)\n",
    "        ]\n",
    "        df_scraper_aux = df_scraper.loc[\n",
    "            (df_scraper.TIPO_CONTRATACION == tipo)\n",
    "        ]\n",
    "        # se agarran las funciones para cada tabla\n",
    "        functions_procs_in_concept = funciones_procedimientos[concepto]\n",
    "        functions_scraper_in_concept = funciones_scraper[concepto]\n",
    "        # Calculo de features\n",
    "        df_features_procs = [\n",
    "            function(df_procs_aux).set_index('CLAVEUC')\n",
    "            for function in functions_procs_in_concept\n",
    "        ]\n",
    "        df_features_scraper = [\n",
    "            function(df_scraper_aux).set_index('CLAVEUC')\n",
    "            for function in functions_scraper_in_concept\n",
    "        ]\n",
    "        # join de features por tabla en concepto\n",
    "        \n",
    "        # Join de tablas en el concetp\n",
    "        print(concepto, tipo)\n",
    "        print([df.shape for df in df_features_procs])\n",
    "        print('-' * 50)\n"
   ]
  },
  {
   "cell_type": "code",
   "execution_count": null,
   "metadata": {},
   "outputs": [],
   "source": []
  },
  {
   "cell_type": "code",
   "execution_count": 4,
   "metadata": {
    "ExecuteTime": {
     "end_time": "2017-10-17T04:39:34.933272Z",
     "start_time": "2017-10-17T04:37:26.806946Z"
    }
   },
   "outputs": [
    {
     "name": "stdout",
     "output_type": "stream",
     "text": [
      "../data/conceptos/general/ADQUISICIONES/features.csv\n",
      "--------------------------------------------------\n",
      "../data/conceptos/general/SERVICIOS/features.csv\n",
      "--------------------------------------------------\n",
      "../data/conceptos/general/OBRA PUBLICA/features.csv\n",
      "--------------------------------------------------\n",
      "../data/conceptos/general/ARRENDAMIENTOS/features.csv\n",
      "--------------------------------------------------\n",
      "../data/conceptos/general/SERVICIOS RELACIONADOS CON LA OP/features.csv\n",
      "--------------------------------------------------\n",
      "../data/conceptos/competencia/ADQUISICIONES/features.csv\n",
      "--------------------------------------------------\n",
      "../data/conceptos/competencia/SERVICIOS/features.csv\n",
      "--------------------------------------------------\n",
      "../data/conceptos/competencia/OBRA PUBLICA/features.csv\n",
      "--------------------------------------------------\n",
      "../data/conceptos/competencia/ARRENDAMIENTOS/features.csv\n",
      "--------------------------------------------------\n",
      "../data/conceptos/competencia/SERVICIOS RELACIONADOS CON LA OP/features.csv\n",
      "--------------------------------------------------\n",
      "../data/conceptos/transparencia/ADQUISICIONES/features.csv\n",
      "--------------------------------------------------\n",
      "../data/conceptos/transparencia/SERVICIOS/features.csv\n",
      "--------------------------------------------------\n",
      "../data/conceptos/transparencia/OBRA PUBLICA/features.csv\n",
      "--------------------------------------------------\n",
      "../data/conceptos/transparencia/ARRENDAMIENTOS/features.csv\n",
      "--------------------------------------------------\n",
      "../data/conceptos/transparencia/SERVICIOS RELACIONADOS CON LA OP/features.csv\n",
      "--------------------------------------------------\n",
      "../data/conceptos/anomalias/ADQUISICIONES/features.csv\n",
      "--------------------------------------------------\n",
      "../data/conceptos/anomalias/SERVICIOS/features.csv\n",
      "--------------------------------------------------\n",
      "../data/conceptos/anomalias/OBRA PUBLICA/features.csv\n",
      "--------------------------------------------------\n",
      "../data/conceptos/anomalias/ARRENDAMIENTOS/features.csv\n",
      "--------------------------------------------------\n",
      "../data/conceptos/anomalias/SERVICIOS RELACIONADOS CON LA OP/features.csv\n",
      "--------------------------------------------------\n"
     ]
    }
   ],
   "source": [
    "funciones_procedimientos = {\n",
    "    'general': [\n",
    "        monto_por_unidad_compradora,\n",
    "        proveedores_distintos,\n",
    "        procedimientos_distintos,\n",
    "        numero_de_contratos,\n",
    "    ],\n",
    "    'competencia': [\n",
    "        contratos_por_proveedor,\n",
    "        porcentaje_procedimientos_por_tipo,\n",
    "        porcentaje_monto_tipo_procedimiento,\n",
    "        importe_promedio_por_contrato,\n",
    "        calcular_IHH_ID_contratos,\n",
    "        calcular_IHH_ID_monto,\n",
    "        \n",
    "    ],\n",
    "    'transparencia': [\n",
    "        porcentaje_procedimientos_presenciales,\n",
    "        contratos_promedio_por_procedimimento,\n",
    "        contratos_por_duracion,\n",
    "        monto_por_duracion,\n",
    "        promedio_datos_faltantes_poc_contrato,\n",
    "    ],\n",
    "    'anomalias': [\n",
    "        interaccion_rfc_fantasma,\n",
    "        interaccion_sancionados,\n",
    "        porcentaje_contratos_por_convenio,\n",
    "    ]\n",
    "}\n",
    "\n",
    "\n",
    "conceptos = tuple(funciones_procedimientos.keys())\n",
    "\n",
    "tipos_contratacion = (\n",
    "    'ADQUISICIONES',\n",
    "    'SERVICIOS',\n",
    "    'OBRA PUBLICA',\n",
    "    'ARRENDAMIENTOS',\n",
    "    'SERVICIOS RELACIONADOS CON LA OP'\n",
    ")\n",
    "\n",
    "for concepto in conceptos:\n",
    "    for tipo in tipos_contratacion:\n",
    "        # sub-tabla procedimientos\n",
    "        df_procs_aux = df_procedimientos.loc[\n",
    "            (df_procedimientos.TIPO_CONTRATACION == tipo)\n",
    "        ]\n",
    "        # sub-tabla scraper\n",
    "        df_procs_aux = df_procedimientos.loc[\n",
    "            (df_procedimientos.TIPO_CONTRATACION == tipo)\n",
    "        ]\n",
    "        functions_in_concept = funciones_procedimientos[concepto]\n",
    "        df_features_procs = [\n",
    "            function(df_procs_aux).set_index('CLAVEUC')\n",
    "            for function in functions_in_concept\n",
    "        ]\n",
    "        # TODO: Por qué aquí no es outter?\n",
    "        df_features = pd.concat(df_features, join='inner', axis=1)\n",
    "        df_features = df_features.reset_index()\n",
    "        # df_features = df_features.assign(nombre_uc=df_features.CLAVEUC.map(nombres_uc))\n",
    "        # df_features = df_features.assign(dependencia=df_features.CLAVEUC.map(nombres_dep))\n",
    "        file_path = os.path.join('../data/conceptos/', concepto, tipo, 'features.csv')\n",
    "        df_features.to_csv(file_path, index=False, quoting=1, encoding='utf-8')\n",
    "        print(file_path)\n",
    "        print('-' * 50)"
   ]
  },
  {
   "cell_type": "code",
   "execution_count": 10,
   "metadata": {
    "ExecuteTime": {
     "end_time": "2017-10-31T23:39:58.354004Z",
     "start_time": "2017-10-31T23:39:58.343859Z"
    }
   },
   "outputs": [
    {
     "data": {
      "text/html": [
       "<div>\n",
       "<style scoped>\n",
       "    .dataframe tbody tr th:only-of-type {\n",
       "        vertical-align: middle;\n",
       "    }\n",
       "\n",
       "    .dataframe tbody tr th {\n",
       "        vertical-align: top;\n",
       "    }\n",
       "\n",
       "    .dataframe thead th {\n",
       "        text-align: right;\n",
       "    }\n",
       "</style>\n",
       "<table border=\"1\" class=\"dataframe\">\n",
       "  <thead>\n",
       "    <tr style=\"text-align: right;\">\n",
       "      <th></th>\n",
       "      <th>uno_algo</th>\n",
       "      <th>dos_algo</th>\n",
       "      <th>tres_algo</th>\n",
       "    </tr>\n",
       "  </thead>\n",
       "  <tbody>\n",
       "    <tr>\n",
       "      <th>0</th>\n",
       "      <td>0</td>\n",
       "      <td>1</td>\n",
       "      <td>2</td>\n",
       "    </tr>\n",
       "    <tr>\n",
       "      <th>1</th>\n",
       "      <td>3</td>\n",
       "      <td>4</td>\n",
       "      <td>5</td>\n",
       "    </tr>\n",
       "    <tr>\n",
       "      <th>2</th>\n",
       "      <td>6</td>\n",
       "      <td>7</td>\n",
       "      <td>8</td>\n",
       "    </tr>\n",
       "    <tr>\n",
       "      <th>3</th>\n",
       "      <td>9</td>\n",
       "      <td>10</td>\n",
       "      <td>11</td>\n",
       "    </tr>\n",
       "  </tbody>\n",
       "</table>\n",
       "</div>"
      ],
      "text/plain": [
       "   uno_algo  dos_algo  tres_algo\n",
       "0         0         1          2\n",
       "1         3         4          5\n",
       "2         6         7          8\n",
       "3         9        10         11"
      ]
     },
     "execution_count": 10,
     "metadata": {},
     "output_type": "execute_result"
    }
   ],
   "source": [
    "df_test = pd.DataFrame(np.arange(0, 12).reshape(4, 3), columns=['uno', 'dos', 'tres'])\n",
    "df_test = df_test.rename(columns={c: (c + '_algo') for c in df_test.columns})\n",
    "df_test"
   ]
  },
  {
   "cell_type": "markdown",
   "metadata": {},
   "source": [
    "## Análisis sancionados"
   ]
  },
  {
   "cell_type": "code",
   "execution_count": 5,
   "metadata": {
    "ExecuteTime": {
     "end_time": "2017-10-15T21:06:07.749912Z",
     "start_time": "2017-10-15T21:06:07.136461Z"
    }
   },
   "outputs": [],
   "source": [
    "df = pd.merge(\n",
    "    df_procedimientos, df_sancionados,\n",
    "    on='PROVEEDOR_CONTRATISTA', how='inner'\n",
    ")\n",
    "monto_por_contrato_fant = df.groupby(\n",
    "    ['FECHA_ARCHIVO', 'DEPENDENCIA', 'CLAVEUC', 'PROVEEDOR_CONTRATISTA',\n",
    "     'NUMERO_PROCEDIMIENTO', 'CODIGO_CONTRATO'],\n",
    "    as_index=False\n",
    ").IMPORTE_PESOS.sum()\n",
    "\n",
    "contratos = monto_por_contrato_fant.groupby(\n",
    "    ['FECHA_ARCHIVO', 'DEPENDENCIA'], as_index=False).CODIGO_CONTRATO.count()\n",
    "contratos = contratos.pivot(index='FECHA_ARCHIVO', columns='DEPENDENCIA', values='CODIGO_CONTRATO')\n",
    "contratos = contratos.fillna(0)\n",
    "contratos = contratos.astype(int)\n",
    "top_dep_contratos = contratos.sum().sort_values(ascending=False).index[0:10]"
   ]
  },
  {
   "cell_type": "code",
   "execution_count": null,
   "metadata": {
    "ExecuteTime": {
     "end_time": "2017-10-15T21:07:00.238944Z",
     "start_time": "2017-10-15T21:06:59.800523Z"
    }
   },
   "outputs": [],
   "source": [
    "with plt.style.context('randy_olson_style'):\n",
    "    import seaborn as sns\n",
    "    fig, ax = plt.subplots(ncols=1, nrows=1, figsize=(20, 7))\n",
    "    df_aux = contratos.loc[:, top_dep_contratos].T\n",
    "    df_aux.columns.name = 'AÑO'\n",
    "    sns.heatmap(df_aux, annot=True, cmap='magma', fmt='d')\n",
    "    plt.tight_layout()"
   ]
  },
  {
   "cell_type": "markdown",
   "metadata": {},
   "source": [
    "### Análisis de fantasma"
   ]
  },
  {
   "cell_type": "code",
   "execution_count": 7,
   "metadata": {
    "ExecuteTime": {
     "end_time": "2017-10-15T20:22:13.748872Z",
     "start_time": "2017-10-15T20:22:13.685338Z"
    }
   },
   "outputs": [],
   "source": [
    "# RFC fantasma\n",
    "df_fantasma = pd.read_csv(\n",
    "    '../data/processed/rfc_fantasmas.psv', sep='|', usecols=['RFC', 'NOMBRE DEL CONTRIBUYENTE'],\n",
    "    dtype={'RFC': str, 'NOMBRE DEL CONTRIBUYENTE': str}\n",
    ")\n",
    "df_fantasma = df_fantasma.loc[df_fantasma.RFC != 'XXXXXXXXXXXX']\n",
    "df_fantasma = clean_rfc_fantasma(df_fantasma)\n",
    "df = pd.merge(\n",
    "    df_procedimientos, df_fantasma,\n",
    "    on='PROVEEDOR_CONTRATISTA', how='inner'\n",
    ")\n",
    "monto_por_contrato_fant = df.groupby(\n",
    "    ['FECHA_ARCHIVO', 'DEPENDENCIA', 'CLAVEUC', 'PROVEEDOR_CONTRATISTA',\n",
    "     'NUMERO_PROCEDIMIENTO', 'CODIGO_CONTRATO'],\n",
    "    as_index=False\n",
    ").IMPORTE_PESOS.sum()\n",
    "\n",
    "contratos = monto_por_contrato_fant.groupby(\n",
    "    ['FECHA_ARCHIVO', 'DEPENDENCIA'], as_index=False).CODIGO_CONTRATO.count()\n",
    "contratos = contratos.pivot(index='FECHA_ARCHIVO', columns='DEPENDENCIA', values='CODIGO_CONTRATO')\n",
    "contratos = contratos.fillna(0)\n",
    "contratos = contratos.astype(int)\n",
    "top_dep_contratos = contratos.sum().sort_values(ascending=False).index[0:10]"
   ]
  },
  {
   "cell_type": "code",
   "execution_count": null,
   "metadata": {
    "ExecuteTime": {
     "end_time": "2017-10-15T21:02:52.615031Z",
     "start_time": "2017-10-15T21:02:52.182288Z"
    }
   },
   "outputs": [],
   "source": [
    "with plt.style.context('randy_olson_style'):\n",
    "    import seaborn as sns\n",
    "    fig, ax = plt.subplots(ncols=1, nrows=1, figsize=(20, 7))\n",
    "    df_aux = contratos.loc[:, top_dep_contratos].T\n",
    "    df_aux.columns.name = 'AÑO'\n",
    "    sns.heatmap(df_aux, annot=True, cmap='magma')\n",
    "    plt.tight_layout()"
   ]
  },
  {
   "cell_type": "code",
   "execution_count": 1,
   "metadata": {
    "ExecuteTime": {
     "end_time": "2017-10-12T00:13:39.433277Z",
     "start_time": "2017-10-12T00:13:39.428738Z"
    }
   },
   "outputs": [],
   "source": [
    "# # RUPC\n",
    "# df_rupc = pd.read_excel(\n",
    "#     '../data/raw/RUPC_171011060240.xlsx',\n",
    "#     dtype={'FOLIO_RUPC': str, 'RFC': str, 'CONTRATOS': int}\n",
    "# )\n",
    "# df_rupc = clean_rupc(df_rupc)\n",
    "# 'JUAN RAMON GARCIA SANCHEZ'\n",
    "# df_rupc.head()\n",
    "# df_rupc.PROVEEDOR_CONTRATISTA.nunique(), df_rupc.FOLIO_RUPC.nunique()"
   ]
  },
  {
   "cell_type": "markdown",
   "metadata": {},
   "source": [
    "# orden\n",
    "* Fecha publicacion\n",
    "* fecha apertura\n",
    "* fecha fallo\n",
    "* Fecha celebracion\n",
    "* fecha inicio\n",
    "* fecha fin\n",
    "\n",
    "####  fecha apertura - fecha publicacion\n",
    "#### fecha fallo - fecha_apertura\n",
    "#### fecha celebracion - fecha fallo\n",
    "####  fecha_fin - fecha_inico"
   ]
  },
  {
   "cell_type": "markdown",
   "metadata": {},
   "source": [
    "## clean sancionados"
   ]
  },
  {
   "cell_type": "code",
   "execution_count": 4,
   "metadata": {
    "ExecuteTime": {
     "end_time": "2017-10-09T17:47:39.200890Z",
     "start_time": "2017-10-09T17:47:33.133290Z"
    }
   },
   "outputs": [
    {
     "data": {
      "text/html": [
       "<div>\n",
       "<style>\n",
       "    .dataframe thead tr:only-child th {\n",
       "        text-align: right;\n",
       "    }\n",
       "\n",
       "    .dataframe thead th {\n",
       "        text-align: left;\n",
       "    }\n",
       "\n",
       "    .dataframe tbody tr th {\n",
       "        vertical-align: top;\n",
       "    }\n",
       "</style>\n",
       "<table border=\"1\" class=\"dataframe\">\n",
       "  <thead>\n",
       "    <tr style=\"text-align: right;\">\n",
       "      <th></th>\n",
       "      <th>CLAVEUC</th>\n",
       "      <th>PROVEEDOR_CONTRATISTA</th>\n",
       "      <th>NUMERO_PROCEDIMIENTO</th>\n",
       "      <th>CODIGO_CONTRATO</th>\n",
       "      <th>FECHA_INICIO</th>\n",
       "      <th>FECHA_FIN</th>\n",
       "      <th>IMPORTE_PESOS</th>\n",
       "      <th>delta_dias</th>\n",
       "      <th>grupo_dias</th>\n",
       "    </tr>\n",
       "  </thead>\n",
       "  <tbody>\n",
       "    <tr>\n",
       "      <th>0</th>\n",
       "      <td>002000997</td>\n",
       "      <td>ALBINO CHAVEZ DIAZ</td>\n",
       "      <td>IA-002000997-E19-2017</td>\n",
       "      <td>1369813</td>\n",
       "      <td>2017-01-04</td>\n",
       "      <td>2017-12-31</td>\n",
       "      <td>3189458.00</td>\n",
       "      <td>361</td>\n",
       "      <td>veinte_o_mas_dias</td>\n",
       "    </tr>\n",
       "    <tr>\n",
       "      <th>1</th>\n",
       "      <td>002000997</td>\n",
       "      <td>ALL DEPOT</td>\n",
       "      <td>IA-002000997-E29-2017</td>\n",
       "      <td>1404736</td>\n",
       "      <td>2017-04-26</td>\n",
       "      <td>2017-05-11</td>\n",
       "      <td>902454.53</td>\n",
       "      <td>15</td>\n",
       "      <td>diez_veinte_dias</td>\n",
       "    </tr>\n",
       "    <tr>\n",
       "      <th>2</th>\n",
       "      <td>002000997</td>\n",
       "      <td>ALL DEPOT</td>\n",
       "      <td>IA-002000997-E32-2017</td>\n",
       "      <td>1462608</td>\n",
       "      <td>2017-06-19</td>\n",
       "      <td>2017-12-31</td>\n",
       "      <td>487296.69</td>\n",
       "      <td>195</td>\n",
       "      <td>veinte_o_mas_dias</td>\n",
       "    </tr>\n",
       "    <tr>\n",
       "      <th>3</th>\n",
       "      <td>002000997</td>\n",
       "      <td>CAVANOVA</td>\n",
       "      <td>IA-002000997-E23-2017</td>\n",
       "      <td>1369840</td>\n",
       "      <td>2017-01-05</td>\n",
       "      <td>2017-12-31</td>\n",
       "      <td>769915.00</td>\n",
       "      <td>360</td>\n",
       "      <td>veinte_o_mas_dias</td>\n",
       "    </tr>\n",
       "    <tr>\n",
       "      <th>4</th>\n",
       "      <td>002000997</td>\n",
       "      <td>CEDAPSA</td>\n",
       "      <td>IA-002000997-E6-2016</td>\n",
       "      <td>1232347</td>\n",
       "      <td>2016-05-30</td>\n",
       "      <td>2016-06-21</td>\n",
       "      <td>463450.00</td>\n",
       "      <td>22</td>\n",
       "      <td>veinte_o_mas_dias</td>\n",
       "    </tr>\n",
       "  </tbody>\n",
       "</table>\n",
       "</div>"
      ],
      "text/plain": [
       "     CLAVEUC PROVEEDOR_CONTRATISTA   NUMERO_PROCEDIMIENTO CODIGO_CONTRATO  \\\n",
       "0  002000997    ALBINO CHAVEZ DIAZ  IA-002000997-E19-2017         1369813   \n",
       "1  002000997             ALL DEPOT  IA-002000997-E29-2017         1404736   \n",
       "2  002000997             ALL DEPOT  IA-002000997-E32-2017         1462608   \n",
       "3  002000997              CAVANOVA  IA-002000997-E23-2017         1369840   \n",
       "4  002000997               CEDAPSA   IA-002000997-E6-2016         1232347   \n",
       "\n",
       "  FECHA_INICIO  FECHA_FIN  IMPORTE_PESOS  delta_dias         grupo_dias  \n",
       "0   2017-01-04 2017-12-31     3189458.00         361  veinte_o_mas_dias  \n",
       "1   2017-04-26 2017-05-11      902454.53          15   diez_veinte_dias  \n",
       "2   2017-06-19 2017-12-31      487296.69         195  veinte_o_mas_dias  \n",
       "3   2017-01-05 2017-12-31      769915.00         360  veinte_o_mas_dias  \n",
       "4   2016-05-30 2016-06-21      463450.00          22  veinte_o_mas_dias  "
      ]
     },
     "execution_count": 4,
     "metadata": {},
     "output_type": "execute_result"
    }
   ],
   "source": [
    "def calcular_duracion(df, breakpoints=None, labels=None):\n",
    "    \"\"\"Cuenta el número de contratos que la unidad compradora tuvo\n",
    "    en los intervalos de tiempo especificados\"\"\"\n",
    "    if breakpoints is None:\n",
    "        breakpoints = [0, 1, 5, 10, 20]\n",
    "    if labels is None:\n",
    "        labels = [\n",
    "            'dias_sin_rango',\n",
    "            'mismo_dia', 'uno_cinco_dias', 'cinco_diez_dias',\n",
    "            'diez_veinte_dias', 'veinte_o_mas_dias'\n",
    "        ]\n",
    "    # TODO: verificar sizes de breapoints y labels\n",
    "    monto_por_contrato = df.groupby(\n",
    "        ['CLAVEUC', 'PROVEEDOR_CONTRATISTA', 'NUMERO_PROCEDIMIENTO',\n",
    "         'CODIGO_CONTRATO', 'FECHA_INICIO', 'FECHA_FIN'],\n",
    "        as_index=False\n",
    "    ).IMPORTE_PESOS.sum()\n",
    "    delta_dias = (monto_por_contrato.FECHA_FIN - monto_por_contrato.FECHA_INICIO).dt.days\n",
    "    monto_por_contrato = monto_por_contrato.assign(delta_dias=delta_dias)\n",
    "\n",
    "    # adding labels\n",
    "    monto_por_contrato = monto_por_contrato.assign(\n",
    "        grupo_dias=monto_por_contrato.delta_dias.map(\n",
    "            lambda d: labels[bisect.bisect(breakpoints, d)]\n",
    "        )\n",
    "    )\n",
    "    return monto_por_contrato\n",
    "\n",
    "df_test = calcular_duracion(df_procs_adquisiciones)\n",
    "df_test.head()"
   ]
  },
  {
   "cell_type": "code",
   "execution_count": 10,
   "metadata": {
    "ExecuteTime": {
     "end_time": "2017-10-09T17:49:37.521616Z",
     "start_time": "2017-10-09T17:49:37.439744Z"
    }
   },
   "outputs": [
    {
     "data": {
      "text/plain": [
       "veinte_o_mas_dias    252559\n",
       "diez_veinte_dias     129254\n",
       "cinco_diez_dias       49789\n",
       "uno_cinco_dias        21750\n",
       "mismo_dia              6091\n",
       "Name: grupo_dias, dtype: int64"
      ]
     },
     "execution_count": 10,
     "metadata": {},
     "output_type": "execute_result"
    }
   ],
   "source": [
    "df_test.grupo_dias.value_counts(dropna=False)"
   ]
  },
  {
   "cell_type": "code",
   "execution_count": 30,
   "metadata": {
    "ExecuteTime": {
     "end_time": "2017-10-09T17:10:05.109646Z",
     "start_time": "2017-10-09T17:09:58.853856Z"
    }
   },
   "outputs": [
    {
     "name": "stdout",
     "output_type": "stream",
     "text": [
      "1529 1529\n"
     ]
    },
    {
     "data": {
      "text/html": [
       "<div>\n",
       "<style>\n",
       "    .dataframe thead tr:only-child th {\n",
       "        text-align: right;\n",
       "    }\n",
       "\n",
       "    .dataframe thead th {\n",
       "        text-align: left;\n",
       "    }\n",
       "\n",
       "    .dataframe tbody tr th {\n",
       "        vertical-align: top;\n",
       "    }\n",
       "</style>\n",
       "<table border=\"1\" class=\"dataframe\">\n",
       "  <thead>\n",
       "    <tr style=\"text-align: right;\">\n",
       "      <th></th>\n",
       "      <th>CLAVEUC</th>\n",
       "      <th>contratos_mismo_dia</th>\n",
       "      <th>contratos_uno_cinco_dias</th>\n",
       "      <th>contratos_cinco_diez_dias</th>\n",
       "      <th>contratos_diez_veinte_dias</th>\n",
       "      <th>contratos_veinte_o_mas_dias</th>\n",
       "    </tr>\n",
       "  </thead>\n",
       "  <tbody>\n",
       "    <tr>\n",
       "      <th>0</th>\n",
       "      <td>002000997</td>\n",
       "      <td>NaN</td>\n",
       "      <td>1.0</td>\n",
       "      <td>NaN</td>\n",
       "      <td>8.0</td>\n",
       "      <td>35.0</td>\n",
       "    </tr>\n",
       "    <tr>\n",
       "      <th>1</th>\n",
       "      <td>002000998</td>\n",
       "      <td>NaN</td>\n",
       "      <td>NaN</td>\n",
       "      <td>NaN</td>\n",
       "      <td>NaN</td>\n",
       "      <td>146.0</td>\n",
       "    </tr>\n",
       "    <tr>\n",
       "      <th>2</th>\n",
       "      <td>002000999</td>\n",
       "      <td>2.0</td>\n",
       "      <td>35.0</td>\n",
       "      <td>17.0</td>\n",
       "      <td>38.0</td>\n",
       "      <td>171.0</td>\n",
       "    </tr>\n",
       "    <tr>\n",
       "      <th>3</th>\n",
       "      <td>003000997</td>\n",
       "      <td>NaN</td>\n",
       "      <td>3.0</td>\n",
       "      <td>5.0</td>\n",
       "      <td>7.0</td>\n",
       "      <td>65.0</td>\n",
       "    </tr>\n",
       "    <tr>\n",
       "      <th>4</th>\n",
       "      <td>004000995</td>\n",
       "      <td>NaN</td>\n",
       "      <td>NaN</td>\n",
       "      <td>NaN</td>\n",
       "      <td>1.0</td>\n",
       "      <td>20.0</td>\n",
       "    </tr>\n",
       "  </tbody>\n",
       "</table>\n",
       "</div>"
      ],
      "text/plain": [
       "     CLAVEUC  contratos_mismo_dia  contratos_uno_cinco_dias  \\\n",
       "0  002000997                  NaN                       1.0   \n",
       "1  002000998                  NaN                       NaN   \n",
       "2  002000999                  2.0                      35.0   \n",
       "3  003000997                  NaN                       3.0   \n",
       "4  004000995                  NaN                       NaN   \n",
       "\n",
       "   contratos_cinco_diez_dias  contratos_diez_veinte_dias  \\\n",
       "0                        NaN                         8.0   \n",
       "1                        NaN                         NaN   \n",
       "2                       17.0                        38.0   \n",
       "3                        5.0                         7.0   \n",
       "4                        NaN                         1.0   \n",
       "\n",
       "   contratos_veinte_o_mas_dias  \n",
       "0                         35.0  \n",
       "1                        146.0  \n",
       "2                        171.0  \n",
       "3                         65.0  \n",
       "4                         20.0  "
      ]
     },
     "execution_count": 30,
     "metadata": {},
     "output_type": "execute_result"
    }
   ],
   "source": [
    "df_test = contratos_por_duracion(df_procs_adquisiciones)\n",
    "\n",
    "print(df_test.shape[0], df_test.CLAVEUC.nunique())\n",
    "df_test.head()"
   ]
  },
  {
   "cell_type": "code",
   "execution_count": null,
   "metadata": {
    "ExecuteTime": {
     "end_time": "2017-10-09T17:09:01.648775Z",
     "start_time": "2017-10-09T17:09:01.642759Z"
    }
   },
   "outputs": [],
   "source": []
  },
  {
   "cell_type": "code",
   "execution_count": 3,
   "metadata": {
    "ExecuteTime": {
     "end_time": "2017-10-09T18:05:08.536817Z",
     "start_time": "2017-10-09T18:05:08.534160Z"
    },
    "scrolled": true
   },
   "outputs": [],
   "source": [
    "# df_test.sort_values(['NUMERO_PROCEDIMIENTO', 'CODIGO_CONTRATO'])\n",
    "# df_test.groupby('NUMERO_PROCEDIMIENTO').FECHA_INICIO.nunique().sort_values(ascending=False)"
   ]
  },
  {
   "cell_type": "code",
   "execution_count": 4,
   "metadata": {
    "ExecuteTime": {
     "end_time": "2017-10-09T18:05:11.168436Z",
     "start_time": "2017-10-09T18:05:11.166210Z"
    }
   },
   "outputs": [],
   "source": [
    "# df_test.loc[df_test.NUMERO_PROCEDIMIENTO == 'AA-012NAW001-N18-2015']"
   ]
  },
  {
   "cell_type": "code",
   "execution_count": null,
   "metadata": {},
   "outputs": [],
   "source": []
  },
  {
   "cell_type": "code",
   "execution_count": 3,
   "metadata": {
    "ExecuteTime": {
     "end_time": "2017-10-09T16:37:17.517149Z",
     "start_time": "2017-10-09T16:37:17.501115Z"
    }
   },
   "outputs": [],
   "source": [
    "# # Porcentaje de procedimientos que empiezan y acaban el mismo día\n",
    "# def diferencia_inicio_fin(df):\n",
    "#     monto_por_contrato = df.groupby(\n",
    "#         ['CLAVEUC', 'PROVEEDOR_CONTRATISTA', 'NUMERO_PROCEDIMIENTO',\n",
    "#          'CODIGO_CONTRATO', 'FECHA_INICIO', 'FECHA_FIN'],\n",
    "#         as_index=False\n",
    "#     ).IMPORTE_PESOS.sum()\n",
    "#     delta_dias = (monto_por_contrato.FECHA_FIN - monto_por_contrato.FECHA_INICIO).dt.days\n",
    "#     monto_por_contrato = monto_por_contrato.assign(delta_dias=delta_dias)\n",
    "#     # adding labels\n",
    "#     breakpoints = [0, 1, 5, 10, 20]\n",
    "#     labels = [\n",
    "#         'dias_sin_rango', 'mismo_dia', 'uno_cinco_dias',\n",
    "#         'cinco_diez_dias', 'diez_veinte_dias', 'veinte_o_mas_dias'\n",
    "#     ]\n",
    "#     monto_por_contrato = monto_por_contrato.assign(\n",
    "#         grupo_dias=monto_por_contrato.delta_dias.map(\n",
    "#             lambda d: labels[bisect.bisect(breakpoints, d)]\n",
    "#         )\n",
    "#     )\n",
    "#     return monto_por_contrato\n",
    "\n",
    "# df_dias = diferencia_inicio_fin(df_procs_servicios)\n",
    "# df_dias.head()"
   ]
  },
  {
   "cell_type": "markdown",
   "metadata": {},
   "source": [
    "## 1 / Diferencia entre el valor promedio del importe del contrato Licitación vs Adj directa"
   ]
  },
  {
   "cell_type": "markdown",
   "metadata": {},
   "source": [
    "## La UC trata con proveedores sancionados (dummy)"
   ]
  },
  {
   "cell_type": "markdown",
   "metadata": {},
   "source": [
    "## Tratar con RFC fantasmas (Dummy)"
   ]
  },
  {
   "cell_type": "code",
   "execution_count": 9,
   "metadata": {
    "ExecuteTime": {
     "end_time": "2017-10-10T17:05:14.222829Z",
     "start_time": "2017-10-10T17:05:14.220286Z"
    }
   },
   "outputs": [],
   "source": [
    "# df_procs_obra_publica.loc[df_procs_obra_publica.CLAVEUC == '003000999']"
   ]
  },
  {
   "cell_type": "code",
   "execution_count": 8,
   "metadata": {
    "ExecuteTime": {
     "end_time": "2017-10-10T17:05:11.146496Z",
     "start_time": "2017-10-10T17:05:11.140447Z"
    }
   },
   "outputs": [],
   "source": [
    "# df_procs_servicios.loc[df_procs_servicios.CLAVEUC == '040100998']"
   ]
  },
  {
   "cell_type": "code",
   "execution_count": 3,
   "metadata": {
    "ExecuteTime": {
     "end_time": "2017-10-03T23:02:03.364488Z",
     "start_time": "2017-10-03T23:02:03.053188Z"
    }
   },
   "outputs": [],
   "source": [
    "# df_nombres_uc = df_procedimientos.loc[:, ['CLAVEUC', 'NOMBRE_DE_LA_UC']].drop_duplicates()\n",
    "# nombres_uc = {row.CLAVEUC: row.NOMBRE_DE_LA_UC for row in df_nombres_uc.itertuples()}\n",
    "\n",
    "# df_nombres_dep = df_procedimientos.loc[:, ['CLAVEUC', 'DEPENDENCIA']].drop_duplicates()\n",
    "# nombres_dep = {row.CLAVEUC: row.DEPENDENCIA for row in df_nombres_dep.itertuples()}\n",
    "\n",
    "# print(df_nombres.shape, df_nombres.CLAVEUC.nunique(), df_nombres.NOMBRE_DE_LA_UC.nunique())\n",
    "# df_nombres.head()"
   ]
  },
  {
   "cell_type": "code",
   "execution_count": 15,
   "metadata": {
    "ExecuteTime": {
     "end_time": "2017-10-03T22:56:03.674422Z",
     "start_time": "2017-10-03T22:56:03.668533Z"
    },
    "scrolled": true
   },
   "outputs": [],
   "source": [
    "# df_nombres.groupby('CLAVEUC').NOMBRE_DE_LA_UC.count().sort_values(ascending=False)"
   ]
  },
  {
   "cell_type": "code",
   "execution_count": 11,
   "metadata": {
    "ExecuteTime": {
     "end_time": "2017-10-03T22:51:43.617145Z",
     "start_time": "2017-10-03T22:51:43.603808Z"
    }
   },
   "outputs": [
    {
     "data": {
      "text/html": [
       "<div>\n",
       "<style>\n",
       "    .dataframe thead tr:only-child th {\n",
       "        text-align: right;\n",
       "    }\n",
       "\n",
       "    .dataframe thead th {\n",
       "        text-align: left;\n",
       "    }\n",
       "\n",
       "    .dataframe tbody tr th {\n",
       "        vertical-align: top;\n",
       "    }\n",
       "</style>\n",
       "<table border=\"1\" class=\"dataframe\">\n",
       "  <thead>\n",
       "    <tr style=\"text-align: right;\">\n",
       "      <th></th>\n",
       "      <th>CLAVEUC</th>\n",
       "      <th>NOMBRE_DE_LA_UC</th>\n",
       "    </tr>\n",
       "  </thead>\n",
       "  <tbody>\n",
       "    <tr>\n",
       "      <th>287579</th>\n",
       "      <td>015000997</td>\n",
       "      <td>SEDATU-SRA980428JG3</td>\n",
       "    </tr>\n",
       "    <tr>\n",
       "      <th>381081</th>\n",
       "      <td>015000997</td>\n",
       "      <td>SEDATU-SRA980428JG3 #015000997</td>\n",
       "    </tr>\n",
       "  </tbody>\n",
       "</table>\n",
       "</div>"
      ],
      "text/plain": [
       "          CLAVEUC                 NOMBRE_DE_LA_UC\n",
       "287579  015000997             SEDATU-SRA980428JG3\n",
       "381081  015000997  SEDATU-SRA980428JG3 #015000997"
      ]
     },
     "execution_count": 11,
     "metadata": {},
     "output_type": "execute_result"
    }
   ],
   "source": [
    "df_nombres.loc[df_nombres.CLAVEUC == '015000997']"
   ]
  },
  {
   "cell_type": "markdown",
   "metadata": {},
   "source": [
    "## Calcular indicadores por tipo de contratacion"
   ]
  },
  {
   "cell_type": "code",
   "execution_count": 9,
   "metadata": {
    "ExecuteTime": {
     "end_time": "2017-10-09T18:15:36.411974Z",
     "start_time": "2017-10-09T18:15:36.409873Z"
    },
    "scrolled": true
   },
   "outputs": [],
   "source": [
    "# df_procedimientos.loc[df_procedimientos.CLAVEUC == '006A00997'].PROVEEDOR_CONTRATISTA.value_counts()"
   ]
  },
  {
   "cell_type": "markdown",
   "metadata": {},
   "source": [
    "## Calcular indicadores por año y tipo de contratacion"
   ]
  },
  {
   "cell_type": "code",
   "execution_count": 3,
   "metadata": {
    "ExecuteTime": {
     "end_time": "2017-10-03T17:57:33.978772Z",
     "start_time": "2017-10-03T17:57:04.583044Z"
    }
   },
   "outputs": [
    {
     "name": "stdout",
     "output_type": "stream",
     "text": [
      "../data/features/2012/ADQUISICIONES/features.csv\n",
      "../data/features/2012/SERVICIOS/features.csv\n",
      "../data/features/2012/OBRA PUBLICA/features.csv\n",
      "../data/features/2013/ADQUISICIONES/features.csv\n",
      "../data/features/2013/SERVICIOS/features.csv\n",
      "../data/features/2013/OBRA PUBLICA/features.csv\n",
      "../data/features/2014/ADQUISICIONES/features.csv\n",
      "../data/features/2014/SERVICIOS/features.csv\n",
      "../data/features/2014/OBRA PUBLICA/features.csv\n",
      "../data/features/2015/ADQUISICIONES/features.csv\n",
      "../data/features/2015/SERVICIOS/features.csv\n",
      "../data/features/2015/OBRA PUBLICA/features.csv\n",
      "../data/features/2016/ADQUISICIONES/features.csv\n",
      "../data/features/2016/SERVICIOS/features.csv\n",
      "../data/features/2016/OBRA PUBLICA/features.csv\n",
      "../data/features/2017/ADQUISICIONES/features.csv\n",
      "../data/features/2017/SERVICIOS/features.csv\n",
      "../data/features/2017/OBRA PUBLICA/features.csv\n"
     ]
    }
   ],
   "source": [
    "function_list = [\n",
    "    # competencia\n",
    "    contratos_por_proveedor,\n",
    "    porcentaje_procedimientos_por_tipo,\n",
    "    porcentaje_monto_tipo_procedimiento,\n",
    "    importe_promedio_por_contrato,\n",
    "    calcular_IHH,\n",
    "    # transparencia\n",
    "    porcentaje_procedimientos_presenciales\n",
    "]\n",
    "\n",
    "\n",
    "years = tuple(range(2012, 2018))\n",
    "tipos_contratacion = (\n",
    "    'ADQUISICIONES', 'SERVICIOS', 'OBRA PUBLICA', 'ARRENDAMIENTOS',\n",
    "    'SERVICIOS RELACIONADOS CON LA OP'\n",
    ")\n",
    "\n",
    "for year, tipo in product(years, tipos_contratacion):\n",
    "    \n",
    "    df_aux = df_procedimientos.loc[\n",
    "        (df_procedimientos.FECHA_INICIO.dt.year == year) &\n",
    "        (df_procedimientos.TIPO_CONTRATACION == tipo)\n",
    "    ]\n",
    "    df_features = [function(df_aux).set_index('CLAVEUC') for function in function_list]\n",
    "    df_features = pd.concat(df_features, join='inner', axis=1)\n",
    "    df_features = df_features.reset_index()\n",
    "    file_path = os.path.join('../data/features/', str(year), tipo, 'features.csv')\n",
    "    df_features.to_csv(file_path, index=False, quoting=1, encoding='utf-8')\n",
    "    print(file_path)"
   ]
  },
  {
   "cell_type": "markdown",
   "metadata": {
    "ExecuteTime": {
     "end_time": "2017-10-03T17:50:52.194324Z",
     "start_time": "2017-10-03T17:50:49.425685Z"
    }
   },
   "source": [
    "## Leer features"
   ]
  },
  {
   "cell_type": "code",
   "execution_count": 4,
   "metadata": {
    "ExecuteTime": {
     "end_time": "2017-10-03T17:23:46.765957Z",
     "start_time": "2017-10-03T17:23:46.598598Z"
    }
   },
   "outputs": [
    {
     "data": {
      "text/plain": [
       "ADQUISICIONES                       391062\n",
       "SERVICIOS                           297925\n",
       "OBRA PUBLICA                         54569\n",
       "SERVICIOS RELACIONADOS CON LA OP     19438\n",
       "ARRENDAMIENTOS                        4807\n",
       "Name: TIPO_CONTRATACION, dtype: int64"
      ]
     },
     "execution_count": 4,
     "metadata": {},
     "output_type": "execute_result"
    }
   ],
   "source": [
    "df_procedimientos.TIPO_CONTRATACION.value_counts(dropna=False)"
   ]
  },
  {
   "cell_type": "code",
   "execution_count": 9,
   "metadata": {
    "ExecuteTime": {
     "end_time": "2017-10-03T16:36:32.951210Z",
     "start_time": "2017-10-03T16:36:32.793979Z"
    }
   },
   "outputs": [
    {
     "data": {
      "text/plain": [
       "{'ADJUDICACION DIRECTA FEDERAL': 'pc_contratos_adjudicacion_directa_federal',\n",
       " 'INVITACION A CUANDO MENOS 3 PERSONAS': 'pc_contratos_invitacion_a_cuando_menos_3_personas',\n",
       " 'LICITACION PUBLICA': 'pc_contratos_licitacion_publica',\n",
       " 'LICITACION PUBLICA CON OSD': 'pc_contratos_licitacion_publica_con_osd',\n",
       " 'OTRO': 'pc_contratos_otro',\n",
       " 'PROYECTO DE CONVOCATORIA': 'pc_contratos_proyecto_de_convocatoria'}"
      ]
     },
     "execution_count": 9,
     "metadata": {},
     "output_type": "execute_result"
    }
   ],
   "source": [
    "{col: 'pc_contratos_' + col.replace(' ', '_').lower()  for col in df_procedimientos.TIPO_PROCEDIMIENTO.value_counts().index.values}"
   ]
  },
  {
   "cell_type": "code",
   "execution_count": 4,
   "metadata": {
    "ExecuteTime": {
     "end_time": "2017-10-03T17:17:34.078517Z",
     "start_time": "2017-10-03T17:17:33.586484Z"
    }
   },
   "outputs": [],
   "source": [
    "df_procs_adquisiciones = df_procedimientos.loc[df_procedimientos.TIPO_CONTRATACION == 'ADQUISICIONES']\n",
    "df_procs_servicios = df_procedimientos.loc[df_procedimientos.TIPO_CONTRATACION == 'SERVICIOS']\n",
    "df_procs_obra_publica = df_procedimientos.loc[df_procedimientos.TIPO_CONTRATACION == 'OBRA PUBLICA']\n"
   ]
  },
  {
   "cell_type": "code",
   "execution_count": 3,
   "metadata": {
    "ExecuteTime": {
     "end_time": "2017-09-27T17:17:01.277533Z",
     "start_time": "2017-09-27T17:17:01.125981Z"
    }
   },
   "outputs": [
    {
     "data": {
      "text/plain": [
       "ADQUISICIONES                       391062\n",
       "SERVICIOS                           297925\n",
       "OBRA PUBLICA                         54569\n",
       "SERVICIOS RELACIONADOS CON LA OP     19438\n",
       "ARRENDAMIENTOS                        4807\n",
       "Name: TIPO_CONTRATACION, dtype: int64"
      ]
     },
     "execution_count": 3,
     "metadata": {},
     "output_type": "execute_result"
    }
   ],
   "source": [
    "df_procedimientos.TIPO_CONTRATACION.value_counts(dropna=False)"
   ]
  },
  {
   "cell_type": "code",
   "execution_count": 10,
   "metadata": {
    "ExecuteTime": {
     "end_time": "2017-09-27T17:23:09.502655Z",
     "start_time": "2017-09-27T17:23:09.351252Z"
    }
   },
   "outputs": [
    {
     "data": {
      "text/plain": [
       "EXPIRADO     700642\n",
       "TERMINADO     41960\n",
       "ACTIVO        25199\n",
       "Name: ESTATUS_CONTRATO, dtype: int64"
      ]
     },
     "execution_count": 10,
     "metadata": {},
     "output_type": "execute_result"
    }
   ],
   "source": [
    "df_procedimientos.ESTATUS_CONTRATO.value_counts(dropna=False)"
   ]
  },
  {
   "cell_type": "code",
   "execution_count": 8,
   "metadata": {
    "ExecuteTime": {
     "end_time": "2017-09-28T17:59:38.730136Z",
     "start_time": "2017-09-28T17:59:38.562552Z"
    }
   },
   "outputs": [
    {
     "data": {
      "text/plain": [
       "Mixta                   263835\n",
       "Presencial              229257\n",
       "Electrónica             222010\n",
       "NaN                      52658\n",
       "Presencial (Estatal)        41\n",
       "Name: FORMA_PROCEDIMIENTO, dtype: int64"
      ]
     },
     "execution_count": 8,
     "metadata": {},
     "output_type": "execute_result"
    }
   ],
   "source": [
    "df_procedimientos.FORMA_PROCEDIMIENTO.value_counts(dropna=False)"
   ]
  },
  {
   "cell_type": "code",
   "execution_count": 9,
   "metadata": {
    "ExecuteTime": {
     "end_time": "2017-09-28T18:18:17.384273Z",
     "start_time": "2017-09-28T18:18:15.627139Z"
    }
   },
   "outputs": [
    {
     "data": {
      "text/html": [
       "<div>\n",
       "<style>\n",
       "    .dataframe thead tr:only-child th {\n",
       "        text-align: right;\n",
       "    }\n",
       "\n",
       "    .dataframe thead th {\n",
       "        text-align: left;\n",
       "    }\n",
       "\n",
       "    .dataframe tbody tr th {\n",
       "        vertical-align: top;\n",
       "    }\n",
       "</style>\n",
       "<table border=\"1\" class=\"dataframe\">\n",
       "  <thead>\n",
       "    <tr style=\"text-align: right;\">\n",
       "      <th></th>\n",
       "      <th>DEPENDENCIA</th>\n",
       "      <th>CLAVEUC</th>\n",
       "      <th>PROVEEDOR_CONTRATISTA</th>\n",
       "      <th>NUMERO_PROCEDIMIENTO</th>\n",
       "      <th>CODIGO_CONTRATO</th>\n",
       "      <th>FORMA_PROCEDIMIENTO</th>\n",
       "      <th>IMPORTE_PESOS</th>\n",
       "    </tr>\n",
       "  </thead>\n",
       "  <tbody>\n",
       "    <tr>\n",
       "      <th>0</th>\n",
       "      <td>ADMINISTRACION FEDERAL DE SERVICIOS EDUCATIVOS...</td>\n",
       "      <td>011C00999</td>\n",
       "      <td>2MAS DESARROLLO</td>\n",
       "      <td>AA-011C00999-E172-2016</td>\n",
       "      <td>1274658</td>\n",
       "      <td>Mixta</td>\n",
       "      <td>191689.41</td>\n",
       "    </tr>\n",
       "    <tr>\n",
       "      <th>1</th>\n",
       "      <td>ADMINISTRACION FEDERAL DE SERVICIOS EDUCATIVOS...</td>\n",
       "      <td>011C00999</td>\n",
       "      <td>2MAS DESARROLLO</td>\n",
       "      <td>AA-011C00999-E173-2016</td>\n",
       "      <td>1274614</td>\n",
       "      <td>Mixta</td>\n",
       "      <td>249135.98</td>\n",
       "    </tr>\n",
       "    <tr>\n",
       "      <th>2</th>\n",
       "      <td>ADMINISTRACION FEDERAL DE SERVICIOS EDUCATIVOS...</td>\n",
       "      <td>011C00999</td>\n",
       "      <td>2MAS DESARROLLO</td>\n",
       "      <td>AA-011C00999-E29-2016</td>\n",
       "      <td>1115557</td>\n",
       "      <td>Mixta</td>\n",
       "      <td>310332.04</td>\n",
       "    </tr>\n",
       "    <tr>\n",
       "      <th>3</th>\n",
       "      <td>ADMINISTRACION FEDERAL DE SERVICIOS EDUCATIVOS...</td>\n",
       "      <td>011C00999</td>\n",
       "      <td>2MAS DESARROLLO</td>\n",
       "      <td>AA-011C00999-E77-2016</td>\n",
       "      <td>1169944</td>\n",
       "      <td>Mixta</td>\n",
       "      <td>335215.13</td>\n",
       "    </tr>\n",
       "    <tr>\n",
       "      <th>4</th>\n",
       "      <td>ADMINISTRACION FEDERAL DE SERVICIOS EDUCATIVOS...</td>\n",
       "      <td>011C00999</td>\n",
       "      <td>2MAS DESARROLLO</td>\n",
       "      <td>AA-011C00999-E90-2016</td>\n",
       "      <td>1191267</td>\n",
       "      <td>Mixta</td>\n",
       "      <td>101735.38</td>\n",
       "    </tr>\n",
       "  </tbody>\n",
       "</table>\n",
       "</div>"
      ],
      "text/plain": [
       "                                         DEPENDENCIA    CLAVEUC  \\\n",
       "0  ADMINISTRACION FEDERAL DE SERVICIOS EDUCATIVOS...  011C00999   \n",
       "1  ADMINISTRACION FEDERAL DE SERVICIOS EDUCATIVOS...  011C00999   \n",
       "2  ADMINISTRACION FEDERAL DE SERVICIOS EDUCATIVOS...  011C00999   \n",
       "3  ADMINISTRACION FEDERAL DE SERVICIOS EDUCATIVOS...  011C00999   \n",
       "4  ADMINISTRACION FEDERAL DE SERVICIOS EDUCATIVOS...  011C00999   \n",
       "\n",
       "  PROVEEDOR_CONTRATISTA    NUMERO_PROCEDIMIENTO CODIGO_CONTRATO  \\\n",
       "0       2MAS DESARROLLO  AA-011C00999-E172-2016         1274658   \n",
       "1       2MAS DESARROLLO  AA-011C00999-E173-2016         1274614   \n",
       "2       2MAS DESARROLLO   AA-011C00999-E29-2016         1115557   \n",
       "3       2MAS DESARROLLO   AA-011C00999-E77-2016         1169944   \n",
       "4       2MAS DESARROLLO   AA-011C00999-E90-2016         1191267   \n",
       "\n",
       "  FORMA_PROCEDIMIENTO  IMPORTE_PESOS  \n",
       "0               Mixta      191689.41  \n",
       "1               Mixta      249135.98  \n",
       "2               Mixta      310332.04  \n",
       "3               Mixta      335215.13  \n",
       "4               Mixta      101735.38  "
      ]
     },
     "execution_count": 9,
     "metadata": {},
     "output_type": "execute_result"
    }
   ],
   "source": [
    "monto_por_contrato = df_procs_adquisiciones.groupby(\n",
    "    ['DEPENDENCIA', 'CLAVEUC', 'PROVEEDOR_CONTRATISTA', 'NUMERO_PROCEDIMIENTO',\n",
    "     'CODIGO_CONTRATO', 'FORMA_PROCEDIMIENTO'],\n",
    "    as_index=False\n",
    ").IMPORTE_PESOS.sum()\n",
    "monto_por_contrato.head()"
   ]
  },
  {
   "cell_type": "markdown",
   "metadata": {
    "ExecuteTime": {
     "end_time": "2017-09-27T00:22:51.992022Z",
     "start_time": "2017-09-27T00:22:51.986943Z"
    }
   },
   "source": [
    "# Features (ADQUISICIONES)"
   ]
  },
  {
   "cell_type": "markdown",
   "metadata": {},
   "source": [
    "### Porcentaje de procesos presenciales"
   ]
  },
  {
   "cell_type": "code",
   "execution_count": 11,
   "metadata": {
    "ExecuteTime": {
     "end_time": "2017-09-28T18:28:21.306719Z",
     "start_time": "2017-09-28T18:28:19.192474Z"
    }
   },
   "outputs": [
    {
     "data": {
      "text/html": [
       "<div>\n",
       "<style>\n",
       "    .dataframe thead tr:only-child th {\n",
       "        text-align: right;\n",
       "    }\n",
       "\n",
       "    .dataframe thead th {\n",
       "        text-align: left;\n",
       "    }\n",
       "\n",
       "    .dataframe tbody tr th {\n",
       "        vertical-align: top;\n",
       "    }\n",
       "</style>\n",
       "<table border=\"1\" class=\"dataframe\">\n",
       "  <thead>\n",
       "    <tr style=\"text-align: right;\">\n",
       "      <th></th>\n",
       "      <th>CLAVEUC</th>\n",
       "      <th>Electrónica</th>\n",
       "      <th>Mixta</th>\n",
       "      <th>Presencial</th>\n",
       "      <th>Presencial (Estatal)</th>\n",
       "    </tr>\n",
       "  </thead>\n",
       "  <tbody>\n",
       "    <tr>\n",
       "      <th>0</th>\n",
       "      <td>002000997</td>\n",
       "      <td>20.000000</td>\n",
       "      <td>0.000000</td>\n",
       "      <td>80.000000</td>\n",
       "      <td>0.0</td>\n",
       "    </tr>\n",
       "    <tr>\n",
       "      <th>1</th>\n",
       "      <td>002000998</td>\n",
       "      <td>100.000000</td>\n",
       "      <td>0.000000</td>\n",
       "      <td>0.000000</td>\n",
       "      <td>0.0</td>\n",
       "    </tr>\n",
       "    <tr>\n",
       "      <th>2</th>\n",
       "      <td>002000999</td>\n",
       "      <td>1.612903</td>\n",
       "      <td>63.709677</td>\n",
       "      <td>34.677419</td>\n",
       "      <td>0.0</td>\n",
       "    </tr>\n",
       "    <tr>\n",
       "      <th>3</th>\n",
       "      <td>003000997</td>\n",
       "      <td>0.000000</td>\n",
       "      <td>4.000000</td>\n",
       "      <td>92.000000</td>\n",
       "      <td>4.0</td>\n",
       "    </tr>\n",
       "    <tr>\n",
       "      <th>4</th>\n",
       "      <td>004000995</td>\n",
       "      <td>0.000000</td>\n",
       "      <td>53.846154</td>\n",
       "      <td>46.153846</td>\n",
       "      <td>0.0</td>\n",
       "    </tr>\n",
       "  </tbody>\n",
       "</table>\n",
       "</div>"
      ],
      "text/plain": [
       "     CLAVEUC  Electrónica      Mixta  Presencial  Presencial (Estatal)\n",
       "0  002000997    20.000000   0.000000   80.000000                   0.0\n",
       "1  002000998   100.000000   0.000000    0.000000                   0.0\n",
       "2  002000999     1.612903  63.709677   34.677419                   0.0\n",
       "3  003000997     0.000000   4.000000   92.000000                   4.0\n",
       "4  004000995     0.000000  53.846154   46.153846                   0.0"
      ]
     },
     "execution_count": 11,
     "metadata": {},
     "output_type": "execute_result"
    }
   ],
   "source": [
    "df_test = porcentaje_procedimientos_presenciales(df_procs_adquisiciones)\n",
    "df_test.head()"
   ]
  },
  {
   "cell_type": "markdown",
   "metadata": {},
   "source": [
    "### Número de proveedores distintos por contrato"
   ]
  },
  {
   "cell_type": "code",
   "execution_count": 4,
   "metadata": {
    "ExecuteTime": {
     "end_time": "2017-09-28T17:52:20.750672Z",
     "start_time": "2017-09-28T17:52:17.410210Z"
    }
   },
   "outputs": [
    {
     "data": {
      "text/html": [
       "<div>\n",
       "<style>\n",
       "    .dataframe thead tr:only-child th {\n",
       "        text-align: right;\n",
       "    }\n",
       "\n",
       "    .dataframe thead th {\n",
       "        text-align: left;\n",
       "    }\n",
       "\n",
       "    .dataframe tbody tr th {\n",
       "        vertical-align: top;\n",
       "    }\n",
       "</style>\n",
       "<table border=\"1\" class=\"dataframe\">\n",
       "  <thead>\n",
       "    <tr style=\"text-align: right;\">\n",
       "      <th></th>\n",
       "      <th>CLAVEUC</th>\n",
       "      <th>proveedores_por_contrato</th>\n",
       "    </tr>\n",
       "  </thead>\n",
       "  <tbody>\n",
       "    <tr>\n",
       "      <th>0</th>\n",
       "      <td>002000997</td>\n",
       "      <td>0.900000</td>\n",
       "    </tr>\n",
       "    <tr>\n",
       "      <th>1</th>\n",
       "      <td>002000998</td>\n",
       "      <td>0.602564</td>\n",
       "    </tr>\n",
       "    <tr>\n",
       "      <th>2</th>\n",
       "      <td>002000999</td>\n",
       "      <td>0.698413</td>\n",
       "    </tr>\n",
       "    <tr>\n",
       "      <th>3</th>\n",
       "      <td>003000997</td>\n",
       "      <td>0.525000</td>\n",
       "    </tr>\n",
       "    <tr>\n",
       "      <th>4</th>\n",
       "      <td>004000995</td>\n",
       "      <td>0.857143</td>\n",
       "    </tr>\n",
       "  </tbody>\n",
       "</table>\n",
       "</div>"
      ],
      "text/plain": [
       "     CLAVEUC  proveedores_por_contrato\n",
       "0  002000997                  0.900000\n",
       "1  002000998                  0.602564\n",
       "2  002000999                  0.698413\n",
       "3  003000997                  0.525000\n",
       "4  004000995                  0.857143"
      ]
     },
     "execution_count": 4,
     "metadata": {},
     "output_type": "execute_result"
    }
   ],
   "source": [
    "df_test = proveedores_por_contrato(df_procs_adquisiciones)\n",
    "df_test.head()"
   ]
  },
  {
   "cell_type": "markdown",
   "metadata": {},
   "source": [
    "### Valor promedio del importe del contrato"
   ]
  },
  {
   "cell_type": "code",
   "execution_count": 5,
   "metadata": {
    "ExecuteTime": {
     "end_time": "2017-09-28T17:52:25.315862Z",
     "start_time": "2017-09-28T17:52:20.752157Z"
    }
   },
   "outputs": [
    {
     "data": {
      "text/html": [
       "<div>\n",
       "<style>\n",
       "    .dataframe thead tr:only-child th {\n",
       "        text-align: right;\n",
       "    }\n",
       "\n",
       "    .dataframe thead th {\n",
       "        text-align: left;\n",
       "    }\n",
       "\n",
       "    .dataframe tbody tr th {\n",
       "        vertical-align: top;\n",
       "    }\n",
       "</style>\n",
       "<table border=\"1\" class=\"dataframe\">\n",
       "  <thead>\n",
       "    <tr style=\"text-align: right;\">\n",
       "      <th></th>\n",
       "      <th>CLAVEUC</th>\n",
       "      <th>monto_contrato_promedio</th>\n",
       "    </tr>\n",
       "  </thead>\n",
       "  <tbody>\n",
       "    <tr>\n",
       "      <th>0</th>\n",
       "      <td>002000997</td>\n",
       "      <td>172016.703400</td>\n",
       "    </tr>\n",
       "    <tr>\n",
       "      <th>1</th>\n",
       "      <td>002000998</td>\n",
       "      <td>361292.915513</td>\n",
       "    </tr>\n",
       "    <tr>\n",
       "      <th>2</th>\n",
       "      <td>002000999</td>\n",
       "      <td>843075.567864</td>\n",
       "    </tr>\n",
       "    <tr>\n",
       "      <th>3</th>\n",
       "      <td>003000997</td>\n",
       "      <td>496076.516500</td>\n",
       "    </tr>\n",
       "    <tr>\n",
       "      <th>4</th>\n",
       "      <td>004000995</td>\n",
       "      <td>802756.780476</td>\n",
       "    </tr>\n",
       "  </tbody>\n",
       "</table>\n",
       "</div>"
      ],
      "text/plain": [
       "     CLAVEUC  monto_contrato_promedio\n",
       "0  002000997            172016.703400\n",
       "1  002000998            361292.915513\n",
       "2  002000999            843075.567864\n",
       "3  003000997            496076.516500\n",
       "4  004000995            802756.780476"
      ]
     },
     "execution_count": 5,
     "metadata": {},
     "output_type": "execute_result"
    }
   ],
   "source": [
    "df_test = importe_promedio_por_contrato(df_procs_adquisiciones)\n",
    "df_test.head()"
   ]
  },
  {
   "cell_type": "markdown",
   "metadata": {},
   "source": [
    "### Porcentaje de contrataciones (número y monto) por adjudicación directa e inv3"
   ]
  },
  {
   "cell_type": "code",
   "execution_count": 18,
   "metadata": {
    "ExecuteTime": {
     "end_time": "2017-09-27T18:30:54.632553Z",
     "start_time": "2017-09-27T18:30:54.449675Z"
    }
   },
   "outputs": [
    {
     "data": {
      "text/plain": [
       "ADJUDICACION DIRECTA FEDERAL            563561\n",
       "LICITACION PUBLICA                      116820\n",
       "INVITACION A CUANDO MENOS 3 PERSONAS     85263\n",
       "OTRO                                      1471\n",
       "LICITACION PUBLICA CON OSD                 388\n",
       "PROYECTO DE CONVOCATORIA                   297\n",
       "NaN                                          1\n",
       "Name: TIPO_PROCEDIMIENTO, dtype: int64"
      ]
     },
     "execution_count": 18,
     "metadata": {},
     "output_type": "execute_result"
    }
   ],
   "source": [
    "df_procedimientos.TIPO_PROCEDIMIENTO.value_counts(dropna=False)"
   ]
  },
  {
   "cell_type": "code",
   "execution_count": 6,
   "metadata": {
    "ExecuteTime": {
     "end_time": "2017-09-28T17:52:27.564431Z",
     "start_time": "2017-09-28T17:52:25.317691Z"
    }
   },
   "outputs": [
    {
     "data": {
      "text/html": [
       "<div>\n",
       "<style>\n",
       "    .dataframe thead tr:only-child th {\n",
       "        text-align: right;\n",
       "    }\n",
       "\n",
       "    .dataframe thead th {\n",
       "        text-align: left;\n",
       "    }\n",
       "\n",
       "    .dataframe tbody tr th {\n",
       "        vertical-align: top;\n",
       "    }\n",
       "</style>\n",
       "<table border=\"1\" class=\"dataframe\">\n",
       "  <thead>\n",
       "    <tr style=\"text-align: right;\">\n",
       "      <th></th>\n",
       "      <th>CLAVEUC</th>\n",
       "      <th>ADJUDICACION DIRECTA FEDERAL</th>\n",
       "      <th>INVITACION A CUANDO MENOS 3 PERSONAS</th>\n",
       "      <th>LICITACION PUBLICA</th>\n",
       "      <th>LICITACION PUBLICA CON OSD</th>\n",
       "      <th>OTRO</th>\n",
       "      <th>PROYECTO DE CONVOCATORIA</th>\n",
       "    </tr>\n",
       "  </thead>\n",
       "  <tbody>\n",
       "    <tr>\n",
       "      <th>0</th>\n",
       "      <td>002000997</td>\n",
       "      <td>40.000000</td>\n",
       "      <td>60.000000</td>\n",
       "      <td>0.000000</td>\n",
       "      <td>0.0</td>\n",
       "      <td>0.0</td>\n",
       "      <td>0.0</td>\n",
       "    </tr>\n",
       "    <tr>\n",
       "      <th>1</th>\n",
       "      <td>002000998</td>\n",
       "      <td>0.000000</td>\n",
       "      <td>0.000000</td>\n",
       "      <td>100.000000</td>\n",
       "      <td>0.0</td>\n",
       "      <td>0.0</td>\n",
       "      <td>0.0</td>\n",
       "    </tr>\n",
       "    <tr>\n",
       "      <th>2</th>\n",
       "      <td>002000999</td>\n",
       "      <td>67.105263</td>\n",
       "      <td>21.710526</td>\n",
       "      <td>11.184211</td>\n",
       "      <td>0.0</td>\n",
       "      <td>0.0</td>\n",
       "      <td>0.0</td>\n",
       "    </tr>\n",
       "    <tr>\n",
       "      <th>3</th>\n",
       "      <td>003000997</td>\n",
       "      <td>16.000000</td>\n",
       "      <td>12.000000</td>\n",
       "      <td>72.000000</td>\n",
       "      <td>0.0</td>\n",
       "      <td>0.0</td>\n",
       "      <td>0.0</td>\n",
       "    </tr>\n",
       "    <tr>\n",
       "      <th>4</th>\n",
       "      <td>004000995</td>\n",
       "      <td>65.000000</td>\n",
       "      <td>35.000000</td>\n",
       "      <td>0.000000</td>\n",
       "      <td>0.0</td>\n",
       "      <td>0.0</td>\n",
       "      <td>0.0</td>\n",
       "    </tr>\n",
       "  </tbody>\n",
       "</table>\n",
       "</div>"
      ],
      "text/plain": [
       "     CLAVEUC  ADJUDICACION DIRECTA FEDERAL  \\\n",
       "0  002000997                     40.000000   \n",
       "1  002000998                      0.000000   \n",
       "2  002000999                     67.105263   \n",
       "3  003000997                     16.000000   \n",
       "4  004000995                     65.000000   \n",
       "\n",
       "   INVITACION A CUANDO MENOS 3 PERSONAS  LICITACION PUBLICA  \\\n",
       "0                             60.000000            0.000000   \n",
       "1                              0.000000          100.000000   \n",
       "2                             21.710526           11.184211   \n",
       "3                             12.000000           72.000000   \n",
       "4                             35.000000            0.000000   \n",
       "\n",
       "   LICITACION PUBLICA CON OSD  OTRO  PROYECTO DE CONVOCATORIA  \n",
       "0                         0.0   0.0                       0.0  \n",
       "1                         0.0   0.0                       0.0  \n",
       "2                         0.0   0.0                       0.0  \n",
       "3                         0.0   0.0                       0.0  \n",
       "4                         0.0   0.0                       0.0  "
      ]
     },
     "execution_count": 6,
     "metadata": {},
     "output_type": "execute_result"
    }
   ],
   "source": [
    "df_test = porcentaje_procedimientos_por_tipo(df_procs_adquisiciones)\n",
    "df_test.head()"
   ]
  },
  {
   "cell_type": "code",
   "execution_count": 7,
   "metadata": {
    "ExecuteTime": {
     "end_time": "2017-09-28T17:52:29.303532Z",
     "start_time": "2017-09-28T17:52:27.566161Z"
    }
   },
   "outputs": [
    {
     "data": {
      "text/html": [
       "<div>\n",
       "<style>\n",
       "    .dataframe thead tr:only-child th {\n",
       "        text-align: right;\n",
       "    }\n",
       "\n",
       "    .dataframe thead th {\n",
       "        text-align: left;\n",
       "    }\n",
       "\n",
       "    .dataframe tbody tr th {\n",
       "        vertical-align: top;\n",
       "    }\n",
       "</style>\n",
       "<table border=\"1\" class=\"dataframe\">\n",
       "  <thead>\n",
       "    <tr style=\"text-align: right;\">\n",
       "      <th></th>\n",
       "      <th>CLAVEUC</th>\n",
       "      <th>ADJUDICACION DIRECTA FEDERAL</th>\n",
       "      <th>INVITACION A CUANDO MENOS 3 PERSONAS</th>\n",
       "      <th>LICITACION PUBLICA</th>\n",
       "      <th>LICITACION PUBLICA CON OSD</th>\n",
       "      <th>OTRO</th>\n",
       "      <th>PROYECTO DE CONVOCATORIA</th>\n",
       "    </tr>\n",
       "  </thead>\n",
       "  <tbody>\n",
       "    <tr>\n",
       "      <th>0</th>\n",
       "      <td>002000997</td>\n",
       "      <td>29.430387</td>\n",
       "      <td>70.569613</td>\n",
       "      <td>0.000000</td>\n",
       "      <td>0.0</td>\n",
       "      <td>0.0</td>\n",
       "      <td>0.0</td>\n",
       "    </tr>\n",
       "    <tr>\n",
       "      <th>1</th>\n",
       "      <td>002000998</td>\n",
       "      <td>0.000000</td>\n",
       "      <td>0.000000</td>\n",
       "      <td>100.000000</td>\n",
       "      <td>0.0</td>\n",
       "      <td>0.0</td>\n",
       "      <td>0.0</td>\n",
       "    </tr>\n",
       "    <tr>\n",
       "      <th>2</th>\n",
       "      <td>002000999</td>\n",
       "      <td>52.351509</td>\n",
       "      <td>36.591765</td>\n",
       "      <td>11.056726</td>\n",
       "      <td>0.0</td>\n",
       "      <td>0.0</td>\n",
       "      <td>0.0</td>\n",
       "    </tr>\n",
       "    <tr>\n",
       "      <th>3</th>\n",
       "      <td>003000997</td>\n",
       "      <td>5.348814</td>\n",
       "      <td>2.439565</td>\n",
       "      <td>92.211621</td>\n",
       "      <td>0.0</td>\n",
       "      <td>0.0</td>\n",
       "      <td>0.0</td>\n",
       "    </tr>\n",
       "    <tr>\n",
       "      <th>4</th>\n",
       "      <td>004000995</td>\n",
       "      <td>58.155994</td>\n",
       "      <td>41.844006</td>\n",
       "      <td>0.000000</td>\n",
       "      <td>0.0</td>\n",
       "      <td>0.0</td>\n",
       "      <td>0.0</td>\n",
       "    </tr>\n",
       "  </tbody>\n",
       "</table>\n",
       "</div>"
      ],
      "text/plain": [
       "     CLAVEUC  ADJUDICACION DIRECTA FEDERAL  \\\n",
       "0  002000997                     29.430387   \n",
       "1  002000998                      0.000000   \n",
       "2  002000999                     52.351509   \n",
       "3  003000997                      5.348814   \n",
       "4  004000995                     58.155994   \n",
       "\n",
       "   INVITACION A CUANDO MENOS 3 PERSONAS  LICITACION PUBLICA  \\\n",
       "0                             70.569613            0.000000   \n",
       "1                              0.000000          100.000000   \n",
       "2                             36.591765           11.056726   \n",
       "3                              2.439565           92.211621   \n",
       "4                             41.844006            0.000000   \n",
       "\n",
       "   LICITACION PUBLICA CON OSD  OTRO  PROYECTO DE CONVOCATORIA  \n",
       "0                         0.0   0.0                       0.0  \n",
       "1                         0.0   0.0                       0.0  \n",
       "2                         0.0   0.0                       0.0  \n",
       "3                         0.0   0.0                       0.0  \n",
       "4                         0.0   0.0                       0.0  "
      ]
     },
     "execution_count": 7,
     "metadata": {},
     "output_type": "execute_result"
    }
   ],
   "source": [
    "df_test = porcentaje_monto_tipo_procedimiento(df_procs_adquisiciones)\n",
    "df_test.head()"
   ]
  },
  {
   "cell_type": "code",
   "execution_count": null,
   "metadata": {},
   "outputs": [],
   "source": [
    "monto_contrato = df_procs_adquisiciones.groupby(\n",
    "    ['DEPENDENCIA', 'CLAVEUC', 'PROVEEDOR_CONTRATISTA', 'NUMERO_PROCEDIMIENTO',\n",
    "     'CODIGO_CONTRATO', 'TIPO_PROCEDIMIENTO'],\n",
    "    as_index=False\n",
    ").IMPORTE_PESOS.sum()"
   ]
  },
  {
   "cell_type": "code",
   "execution_count": null,
   "metadata": {},
   "outputs": [],
   "source": [
    "## Porcentaje de procedimientos que empiezan y acaban el mismo día, etc"
   ]
  },
  {
   "cell_type": "code",
   "execution_count": null,
   "metadata": {},
   "outputs": [],
   "source": [
    "## Número de convenios modificatorios"
   ]
  },
  {
   "cell_type": "code",
   "execution_count": null,
   "metadata": {},
   "outputs": [],
   "source": []
  },
  {
   "cell_type": "code",
   "execution_count": 30,
   "metadata": {
    "ExecuteTime": {
     "end_time": "2017-09-27T21:55:39.813028Z",
     "start_time": "2017-09-27T21:55:39.714460Z"
    }
   },
   "outputs": [
    {
     "data": {
      "text/html": [
       "<div>\n",
       "<style>\n",
       "    .dataframe thead tr:only-child th {\n",
       "        text-align: right;\n",
       "    }\n",
       "\n",
       "    .dataframe thead th {\n",
       "        text-align: left;\n",
       "    }\n",
       "\n",
       "    .dataframe tbody tr th {\n",
       "        vertical-align: top;\n",
       "    }\n",
       "</style>\n",
       "<table border=\"1\" class=\"dataframe\">\n",
       "  <thead>\n",
       "    <tr style=\"text-align: right;\">\n",
       "      <th></th>\n",
       "      <th>DEPENDENCIA</th>\n",
       "      <th>SIGLAS</th>\n",
       "      <th>NOMBRE_DE_LA_UC</th>\n",
       "      <th>CLAVEUC</th>\n",
       "      <th>RESPONSABLE</th>\n",
       "      <th>ESTRATIFICACION_MUC</th>\n",
       "      <th>FOLIO_RUPC</th>\n",
       "      <th>PROVEEDOR_CONTRATISTA</th>\n",
       "      <th>ESTATUS_EMPRESA</th>\n",
       "      <th>ESTRATIFICACION_MPC</th>\n",
       "      <th>IMPORTE_CONTRATO</th>\n",
       "      <th>APORTACION_FEDERAL</th>\n",
       "      <th>MONEDA</th>\n",
       "      <th>NUMERO_PROCEDIMIENTO</th>\n",
       "      <th>FORMA_PROCEDIMIENTO</th>\n",
       "      <th>TIPO_PROCEDIMIENTO</th>\n",
       "      <th>CODIGO_CONTRATO</th>\n",
       "      <th>TITULO_CONTRATO</th>\n",
       "      <th>IDENTIFICADOR_CM</th>\n",
       "      <th>TIPO_CONTRATACION</th>\n",
       "      <th>ESTATUS_CONTRATO</th>\n",
       "      <th>COMPRA_CONSOLIDADA</th>\n",
       "      <th>PLURIANUAL</th>\n",
       "      <th>CARACTER</th>\n",
       "      <th>CONTRATO_MARCO</th>\n",
       "      <th>CONVENIO_MODIFICATORIO</th>\n",
       "      <th>PROC_F_PUBLICACION</th>\n",
       "      <th>FECHA_APERTURA_PROPOSICIONES</th>\n",
       "      <th>EXP_F_FALLO</th>\n",
       "      <th>FECHA_CELEBRACION</th>\n",
       "      <th>FECHA_INICIO</th>\n",
       "      <th>FECHA_FIN</th>\n",
       "      <th>CODIGO_EXPEDIENTE</th>\n",
       "      <th>TITULO_EXPEDIENTE</th>\n",
       "      <th>PLANTILLA_EXPEDIENTE</th>\n",
       "      <th>CLAVE_PROGRAMA</th>\n",
       "      <th>CUENTA_ADMINISTRADA_POR</th>\n",
       "      <th>ANUNCIO</th>\n",
       "      <th>ARCHIVADO</th>\n",
       "      <th>SIGLAS_PAIS</th>\n",
       "      <th>RAMO</th>\n",
       "      <th>ORGANISMO</th>\n",
       "      <th>C_EXTERNO</th>\n",
       "      <th>IMPORTE_PESOS</th>\n",
       "    </tr>\n",
       "  </thead>\n",
       "  <tbody>\n",
       "  </tbody>\n",
       "</table>\n",
       "</div>"
      ],
      "text/plain": [
       "Empty DataFrame\n",
       "Columns: [DEPENDENCIA, SIGLAS, NOMBRE_DE_LA_UC, CLAVEUC, RESPONSABLE, ESTRATIFICACION_MUC, FOLIO_RUPC, PROVEEDOR_CONTRATISTA, ESTATUS_EMPRESA, ESTRATIFICACION_MPC, IMPORTE_CONTRATO, APORTACION_FEDERAL, MONEDA, NUMERO_PROCEDIMIENTO, FORMA_PROCEDIMIENTO, TIPO_PROCEDIMIENTO, CODIGO_CONTRATO, TITULO_CONTRATO, IDENTIFICADOR_CM, TIPO_CONTRATACION, ESTATUS_CONTRATO, COMPRA_CONSOLIDADA, PLURIANUAL, CARACTER, CONTRATO_MARCO, CONVENIO_MODIFICATORIO, PROC_F_PUBLICACION, FECHA_APERTURA_PROPOSICIONES, EXP_F_FALLO, FECHA_CELEBRACION, FECHA_INICIO, FECHA_FIN, CODIGO_EXPEDIENTE, TITULO_EXPEDIENTE, PLANTILLA_EXPEDIENTE, CLAVE_PROGRAMA, CUENTA_ADMINISTRADA_POR, ANUNCIO, ARCHIVADO, SIGLAS_PAIS, RAMO, ORGANISMO, C_EXTERNO, IMPORTE_PESOS]\n",
       "Index: []"
      ]
     },
     "execution_count": 30,
     "metadata": {},
     "output_type": "execute_result"
    }
   ],
   "source": [
    "df_procedimientos.loc[df_procedimientos.CODIGO_EXPEDIENTE == '773759']"
   ]
  },
  {
   "cell_type": "code",
   "execution_count": 36,
   "metadata": {
    "ExecuteTime": {
     "end_time": "2017-09-27T17:13:25.234674Z",
     "start_time": "2017-09-27T17:13:25.038056Z"
    }
   },
   "outputs": [
    {
     "name": "stdout",
     "output_type": "stream",
     "text": [
      "(260096, 4)\n"
     ]
    }
   ],
   "source": [
    "df_test = pd.merge(contratos_total, contratos_distintos, on=['CLAVEUC', 'NUMERO_PROCEDIMIENTO'], how='inner')\n",
    "print(df_test.shape)"
   ]
  },
  {
   "cell_type": "code",
   "execution_count": 37,
   "metadata": {
    "ExecuteTime": {
     "end_time": "2017-09-27T17:13:33.045147Z",
     "start_time": "2017-09-27T17:13:33.031623Z"
    }
   },
   "outputs": [
    {
     "data": {
      "text/html": [
       "<div>\n",
       "<style>\n",
       "    .dataframe thead tr:only-child th {\n",
       "        text-align: right;\n",
       "    }\n",
       "\n",
       "    .dataframe thead th {\n",
       "        text-align: left;\n",
       "    }\n",
       "\n",
       "    .dataframe tbody tr th {\n",
       "        vertical-align: top;\n",
       "    }\n",
       "</style>\n",
       "<table border=\"1\" class=\"dataframe\">\n",
       "  <thead>\n",
       "    <tr style=\"text-align: right;\">\n",
       "      <th></th>\n",
       "      <th>CLAVEUC</th>\n",
       "      <th>NUMERO_PROCEDIMIENTO</th>\n",
       "      <th>conteo_contratos</th>\n",
       "      <th>nunique_contratos</th>\n",
       "    </tr>\n",
       "  </thead>\n",
       "  <tbody>\n",
       "    <tr>\n",
       "      <th>32896</th>\n",
       "      <td>018TOQ937</td>\n",
       "      <td>AA-018TOQ937-N112-2013</td>\n",
       "      <td>2</td>\n",
       "      <td>1</td>\n",
       "    </tr>\n",
       "  </tbody>\n",
       "</table>\n",
       "</div>"
      ],
      "text/plain": [
       "         CLAVEUC    NUMERO_PROCEDIMIENTO  conteo_contratos  nunique_contratos\n",
       "32896  018TOQ937  AA-018TOQ937-N112-2013                 2                  1"
      ]
     },
     "execution_count": 37,
     "metadata": {},
     "output_type": "execute_result"
    }
   ],
   "source": [
    "df_test.loc[df_test.conteo_contratos != df_test.nunique_contratos]"
   ]
  },
  {
   "cell_type": "code",
   "execution_count": 7,
   "metadata": {
    "ExecuteTime": {
     "end_time": "2017-10-10T17:03:53.787842Z",
     "start_time": "2017-10-10T17:03:53.781544Z"
    }
   },
   "outputs": [],
   "source": [
    "# monto_contrato_adquisiciones.loc[monto_contrato_adquisiciones.NUMERO_PROCEDIMIENTO == 'AA-018TOQ937-N112-2013']"
   ]
  },
  {
   "cell_type": "code",
   "execution_count": 6,
   "metadata": {
    "ExecuteTime": {
     "end_time": "2017-10-10T17:03:50.823889Z",
     "start_time": "2017-10-10T17:03:50.821845Z"
    }
   },
   "outputs": [],
   "source": [
    "# df_procedimientos.loc[df_procedimientos.NUMERO_PROCEDIMIENTO == 'LA-019GYR047-N46-2014']"
   ]
  },
  {
   "cell_type": "code",
   "execution_count": 5,
   "metadata": {
    "ExecuteTime": {
     "end_time": "2017-10-10T17:03:48.549205Z",
     "start_time": "2017-10-10T17:03:48.543143Z"
    }
   },
   "outputs": [],
   "source": [
    "# df_procedimientos.loc[df_procedimientos.NUMERO_PROCEDIMIENTO == 'AA-018TOQ937-N112-2013']"
   ]
  },
  {
   "cell_type": "code",
   "execution_count": null,
   "metadata": {},
   "outputs": [],
   "source": [
    "## Sacar un procedimiento con varios contratos"
   ]
  },
  {
   "cell_type": "code",
   "execution_count": 4,
   "metadata": {
    "ExecuteTime": {
     "end_time": "2017-10-10T17:03:45.086079Z",
     "start_time": "2017-10-10T17:03:45.079474Z"
    },
    "scrolled": true
   },
   "outputs": [],
   "source": [
    "# monto_contrato_adquisiciones.loc[monto_contrato_adquisiciones.CLAVEUC == '006G2T002'].NUMERO_PROCEDIMIENTO.value_counts()"
   ]
  },
  {
   "cell_type": "code",
   "execution_count": 3,
   "metadata": {
    "ExecuteTime": {
     "end_time": "2017-10-10T17:03:42.507703Z",
     "start_time": "2017-10-10T17:03:42.501442Z"
    },
    "scrolled": true
   },
   "outputs": [],
   "source": [
    "# monto_contrato_adquisiciones.groupby('NUMERO_PROCEDIMIENTO').CODIGO_CONTRATO.nunique().sort_values(ascending=False)"
   ]
  },
  {
   "cell_type": "code",
   "execution_count": null,
   "metadata": {},
   "outputs": [],
   "source": []
  },
  {
   "cell_type": "code",
   "execution_count": null,
   "metadata": {},
   "outputs": [],
   "source": [
    "# contratos_distintos = monto_contrato_adquisiciones.groupby(\n",
    "#     ['CLAVEUC', 'NUMERO_PROCEDIMIENTO']).CODIGO_CONTRATO.nunique()\n",
    "# contratos_distintos = contratos_distintos.reset_index().sort_values('CODIGO_CONTRATO', ascending=False)\n",
    "# contratos_distintos = contratos_distintos.rename(columns={'CODIGO_CONTRATO': 'nunique_contratos'})\n",
    "#\n",
    "\n",
    "# # with plt.style.context('randy_olson_style'):\n",
    "# #     df_feature.proveedores_por_contrato.plot.hist(50)\n",
    "# # df_feature.sort_values('proveedores_por_contrato')\n",
    "# # df_procedimientos.loc[df_procedimientos.CLAVEUC == '011MAX001']\n",
    "# print(monto_contrato_adquisiciones.shape)\n",
    "# print(\n",
    "#     monto_contrato_adquisiciones.DEPENDENCIA.nunique(),\n",
    "#     monto_contrato_adquisiciones.CLAVEUC.nunique(),\n",
    "#     monto_contrato_adquisiciones.PROVEEDOR_CONTRATISTA.nunique(),\n",
    "#     monto_contrato_adquisiciones.NUMERO_PROCEDIMIENTO.nunique(),\n",
    "#     monto_contrato_adquisiciones.CODIGO_CONTRATO.nunique(),\n",
    "# )\n",
    "# monto_contrato_adquisiciones.head(2)"
   ]
  },
  {
   "cell_type": "code",
   "execution_count": null,
   "metadata": {},
   "outputs": [],
   "source": [
    "# def calc_proveedores_por_contrato(df):\n",
    "#     monto_contrato = df.groupby(\n",
    "#         ['DEPENDENCIA', 'CLAVEUC', 'PROVEEDOR_CONTRATISTA', 'NUMERO_PROCEDIMIENTO', 'CODIGO_CONTRATO'],\n",
    "#         as_index=False\n",
    "#     ).IMPORTE_PESOS.sum()\n",
    "#     # ----------\n",
    "#     pocs_distintos = monto_contrato_adquisiciones.groupby('CLAVEUC').PROVEEDOR_CONTRATISTA.nunique()\n",
    "#     pocs_distintos = pocs_distintos.reset_index()\n",
    "#     pocs_distintos = pocs_distintos.rename(columns={'PROVEEDOR_CONTRATISTA': 'proveedores_distintos'})\n",
    "\n",
    "#     # -------------\n",
    "#     contratos_total = monto_contrato_adquisiciones.groupby(\n",
    "#         ['CLAVEUC', 'NUMERO_PROCEDIMIENTO']).CODIGO_CONTRATO.nunique()\n",
    "#     contratos_total = contratos_total.reset_index()\n",
    "#     contratos_total = contratos_total.rename(columns={'CODIGO_CONTRATO': 'conteo_contratos'})\n",
    "#     contratos_total = contratos_total.groupby('CLAVEUC', as_index=False).conteo_contratos.sum()\n",
    "#     # nunique_provs/num_contatros\n",
    "#     df_feature = pd.merge(pocs_distintos, contratos_total, on='CLAVEUC', how='inner')\n",
    "#     df_feature = df_feature.assign(\n",
    "#         proveedores_por_contrato=df_feature.proveedores_distintos.divide(df_feature.conteo_contratos)\n",
    "#     )\n",
    "#     return df_feature.loc[:, ['CLAVEUC', 'proveedores_por_contrato']]\n",
    "\n",
    "\n",
    "# def calcular_porcentaje_procedimientos_por_tipo(df):\n",
    "#     monto_por_contrato = df.groupby(\n",
    "#         ['DEPENDENCIA', 'CLAVEUC', 'PROVEEDOR_CONTRATISTA', 'NUMERO_PROCEDIMIENTO',\n",
    "#          'CODIGO_CONTRATO', 'TIPO_PROCEDIMIENTO'],\n",
    "#         as_index=False\n",
    "#     ).IMPORTE_PESOS.sum()\n",
    "#     conteo_tipos = monto_por_contrato.groupby(\n",
    "#         ['CLAVEUC', 'TIPO_PROCEDIMIENTO']\n",
    "#     ).NUMERO_PROCEDIMIENTO.nunique().reset_index()\n",
    "#     conteo_tipos = conteo_tipos.pivot(\n",
    "#         index='CLAVEUC', columns='TIPO_PROCEDIMIENTO',\n",
    "#         values='NUMERO_PROCEDIMIENTO'\n",
    "#     ).fillna(0)\n",
    "#     total_contratos = conteo_tipos.sum(axis=1)\n",
    "#     conteo_tipos = conteo_tipos * 100\n",
    "#     conteo_tipos = conteo_tipos.divide(total_contratos, axis='index')\n",
    "#     conteo_tipos = conteo_tipos.reset_index()\n",
    "#     conteo_tipos.columns.name = ''\n",
    "#     return conteo_tipos\n",
    "\n",
    "\n",
    "# def calcular_porcentaje_monto_tipo_procedimiento(df):\n",
    "#     monto_por_contrato = df.groupby(\n",
    "#         ['DEPENDENCIA', 'CLAVEUC', 'PROVEEDOR_CONTRATISTA', 'NUMERO_PROCEDIMIENTO',\n",
    "#          'CODIGO_CONTRATO', 'TIPO_PROCEDIMIENTO'],\n",
    "#         as_index=False\n",
    "#     ).IMPORTE_PESOS.sum()\n",
    "#     monto_tipos = monto_contrato.groupby(\n",
    "#         ['CLAVEUC', 'TIPO_PROCEDIMIENTO'], as_index=False\n",
    "#     ).IMPORTE_PESOS.sum()\n",
    "#     monto_tipos = monto_tipos.pivot(\n",
    "#         index='CLAVEUC', columns='TIPO_PROCEDIMIENTO',\n",
    "#         values='IMPORTE_PESOS'\n",
    "#     ).fillna(0)\n",
    "#     total_montos = monto_tipos.sum(axis=1)\n",
    "#     monto_tipos = monto_tipos * 100\n",
    "#     monto_tipos = monto_tipos.divide(total_montos, axis='index')\n",
    "#     # TODO: cambiar el nombre de las columnas\n",
    "#     monto_tipos = monto_tipos.reset_index()\n",
    "#     monto_tipos.columns.name = ''\n",
    "#     return monto_tipos\n",
    "\n",
    "# df_procedimientos.sample(n=1000).to_csv(\n",
    "#     '../data/processed/sample_procedimientos.psv', index=False, quoting=1, encoding='utf-8', sep='|'\n",
    "# )"
   ]
  },
  {
   "cell_type": "code",
   "execution_count": null,
   "metadata": {},
   "outputs": [],
   "source": [
    "# cols = [\n",
    "#     'CLAVEUC',\n",
    "#     'CODIGO_EXPEDIENTE',\n",
    "#     'TIPO_CONTRATACION',\n",
    "#     'TIPO_PROCEDIMIENTO',\n",
    "#     'FORMA_PROCEDIMIENTO',\n",
    "#     'CODIGO_CONTRATO',\n",
    "#     'IMPORTE_PESOS',\n",
    "#     'CONVENIO_MODIFICATORIO',\n",
    "#     'CONTRATO_MARCO',\n",
    "#     'COMPRA_CONSOLIDADA',\n",
    "#     'PROVEEDOR_CONTRATISTA',\n",
    "# ]\n",
    "\n",
    "# df_procedimientos.loc[:, cols].to_csv(\n",
    "#     '../data/results/procedimientos_reducida.psv', sep='|', index=False, quoting=1, encoding='utf-8')"
   ]
  },
  {
   "cell_type": "code",
   "execution_count": null,
   "metadata": {},
   "outputs": [],
   "source": [
    "def contratos_por_duracion(df, breakpoints=None, labels=None):\n",
    "    if breakpoints is None:\n",
    "        breakpoints = [0, 1, 5, 10, 20]\n",
    "    if labels is None:\n",
    "        labels = [\n",
    "            'dias_sin_rango',\n",
    "            'mismo_dia', 'uno_cinco_dias', 'cinco_diez_dias',\n",
    "            'diez_veinte_dias', 'veinte_o_mas_dias'\n",
    "        ]\n",
    "    # TODO: verificar sizes de breapoints y labels\n",
    "    monto_por_contrato = df.groupby(\n",
    "        ['CLAVEUC', 'PROVEEDOR_CONTRATISTA', 'NUMERO_PROCEDIMIENTO',\n",
    "         'CODIGO_CONTRATO', 'FECHA_INICIO', 'FECHA_FIN'],\n",
    "        as_index=False\n",
    "    ).IMPORTE_PESOS.sum()\n",
    "    delta_dias = (monto_por_contrato.FECHA_FIN - monto_por_contrato.FECHA_INICIO).dt.days\n",
    "    monto_por_contrato = monto_por_contrato.assign(delta_dias=delta_dias)\n",
    "    \n",
    "    # adding labels\n",
    "    monto_por_contrato = monto_por_contrato.assign(\n",
    "        grupo_dias=monto_por_contrato.delta_dias.map(\n",
    "            lambda d: labels[bisect.bisect(breakpoints, d)]\n",
    "        )\n",
    "    )\n",
    "    monto_por_contrato = monto_por_contrato.loc[\n",
    "        :, ['CLAVEUC', 'delta_dias', 'grupo_dias', 'CODIGO_CONTRATO']\n",
    "    ]\n",
    "    conteo_contratos = monto_por_contrato.groupby(\n",
    "        ['CLAVEUC', 'grupo_dias'], as_index=False\n",
    "    ).CODIGO_CONTRATO.count()\n",
    "    conteo_contratos = conteo_contratos.rename(\n",
    "        columns={'CODIGO_CONTRATO': 'num_contratos'})\n",
    "    conteo_contratos = conteo_contratos.pivot(\n",
    "        index='CLAVEUC', columns='grupo_dias', values='num_contratos'\n",
    "    )\n",
    "    # ordenar salida\n",
    "    conteo_contratos = conteo_contratos.loc[:, labels[1:]]\n",
    "    \n",
    "    conteo_contratos = conteo_contratos.rename(\n",
    "        columns={c: 'contratos_' + c for c in conteo_contratos.columns}\n",
    "    )\n",
    "    conteo_contratos = conteo_contratos.reset_index()\n",
    "    conteo_contratos.columns.name = ''\n",
    "    conteo_contratos = conteo_contratos.fillna(0)\n",
    "    return conteo_contratos"
   ]
  },
  {
   "cell_type": "code",
   "execution_count": null,
   "metadata": {},
   "outputs": [],
   "source": [
    "def calcular_IHH_ID_contratos(df):\n",
    "    monto_por_contrato = df.groupby(\n",
    "        ['DEPENDENCIA', 'CLAVEUC', 'PROVEEDOR_CONTRATISTA',\n",
    "         'NUMERO_PROCEDIMIENTO', 'CODIGO_CONTRATO'],\n",
    "        as_index=False\n",
    "    ).IMPORTE_PESOS.sum()\n",
    "    contratos_uc_poc = monto_por_contrato.groupby(\n",
    "        ['CLAVEUC', 'PROVEEDOR_CONTRATISTA', 'NUMERO_PROCEDIMIENTO'],\n",
    "    ).CODIGO_CONTRATO.nunique()\n",
    "    contratos_uc_poc = contratos_uc_poc.reset_index()\n",
    "    contratos_uc_poc = contratos_uc_poc.groupby(\n",
    "        ['CLAVEUC', 'PROVEEDOR_CONTRATISTA'], as_index=False\n",
    "    ).CODIGO_CONTRATO.sum()\n",
    "    contratos_uc = contratos_uc_poc.groupby(\n",
    "        'CLAVEUC', as_index=False\n",
    "    ).CODIGO_CONTRATO.sum()\n",
    "    contratos_uc = contratos_uc.rename(\n",
    "        columns={'CODIGO_CONTRATO': 'contratos_por_uc'}\n",
    "    )\n",
    "    contratos_uc_poc = pd.merge(\n",
    "        contratos_uc_poc, contratos_uc, how='left', on='CLAVEUC'\n",
    "    )\n",
    "    contratos_uc_poc = contratos_uc_poc.assign(\n",
    "        Share=(contratos_uc_poc.CODIGO_CONTRATO.divide(contratos_uc_poc.contratos_por_uc) * 100)\n",
    "    )\n",
    "    contratos_uc_poc = contratos_uc_poc.assign(\n",
    "        IHH_contratos=contratos_uc_poc.Share**2\n",
    "    )\n",
    "    contratos_uc_poc = contratos_uc_poc.drop(\n",
    "        ['contratos_por_uc', 'Share'], axis=1)\n",
    "    # IHH por uc\n",
    "    uc_IHH = contratos_uc_poc.groupby(\n",
    "        'CLAVEUC', as_index=False).IHH_contratos.sum()\n",
    "    print(uc_IHH.shape)\n",
    "    uc_IHH = uc_IHH.rename(columns={'IHH_contratos': 'IHH_total_contratos'})\n",
    "    # display(uc_IHH.head())\n",
    "    \n",
    "    # ID por uc\n",
    "    contratos_uc_poc = pd.merge(\n",
    "        contratos_uc_poc, uc_IHH, on='CLAVEUC', how='inner'\n",
    "    )\n",
    "    contratos_uc_poc = contratos_uc_poc.assign(\n",
    "        ID_contratos=(\n",
    "            contratos_uc_poc.IHH_contratos.divide(contratos_uc_poc.IHH_total_contratos)\n",
    "        )\n",
    "    )\n",
    "    contratos_uc_poc = contratos_uc_poc.assign(\n",
    "        ID_contratos=(contratos_uc_poc.ID_contratos * 100) ** 2\n",
    "    )\n",
    "    uc_ID = contratos_uc_poc.groupby('CLAVEUC', as_index=False).ID_contratos.sum()\n",
    "    uc_ID = uc_ID.rename(columns={'ID_contratos': 'ID_total_contratos'})\n",
    "    # final join\n",
    "    df_feature = pd.merge(uc_IHH, uc_ID, on='CLAVEUC', how='inner')\n",
    "    return df_feature\n",
    "\n",
    "df_test = calcular_IHH_ID_contratos(df_procs_servicios)\n",
    "df_test.head(20)"
   ]
  },
  {
   "cell_type": "code",
   "execution_count": null,
   "metadata": {},
   "outputs": [],
   "source": [
    "# function_list = [\n",
    "#     # general\n",
    "#     monto_por_unidad_compradora,\n",
    "#     # competencia\n",
    "#     contratos_por_proveedor,\n",
    "#     porcentaje_procedimientos_por_tipo,\n",
    "#     porcentaje_monto_tipo_procedimiento,\n",
    "#     importe_promedio_por_contrato,\n",
    "#     calcular_IHH_monto,\n",
    "#     calcular_IHH_contratos,\n",
    "#     # transparencia\n",
    "#     porcentaje_procedimientos_presenciales,\n",
    "#     contratos_promedio_por_procedimimento,\n",
    "#     contratos_por_duracion,\n",
    "#     monto_por_duracion,\n",
    "# ]"
   ]
  },
  {
   "cell_type": "code",
   "execution_count": null,
   "metadata": {},
   "outputs": [],
   "source": [
    "def clean_rfc_fantasma(df_rfc_fantasma):\n",
    "    df_rfc_fantasma = df_rfc_fantasma.rename(\n",
    "        columns={'NOMBRE DEL CONTRIBUYENTE': 'PROVEEDOR_CONTRATISTA'})\n",
    "\n",
    "    df = df.assign(\n",
    "        PROVEEDOR_CONTRATISTA=(\n",
    "            df.PROVEEDOR_CONTRATISTA.str.normalize('NFD').str.encode('ascii', 'ignore').str.decode('utf-8').str.upper()\n",
    "        )\n",
    "    )\n",
    "    df = df.assign(\n",
    "        PROVEEDOR_CONTRATISTA=df.PROVEEDOR_CONTRATISTA.str.replace('.', '')\n",
    "    )\n",
    "    df = df.assign(\n",
    "        PROVEEDOR_CONTRATISTA=df.PROVEEDOR_CONTRATISTA.str.replace(',', '')\n",
    "    )\n",
    "    df = df.assign(\n",
    "        PROVEEDOR_CONTRATISTA=df.PROVEEDOR_CONTRATISTA.str.strip()\n",
    "    )\n",
    "    df = df.assign(\n",
    "        PROVEEDOR_CONTRATISTA=df.PROVEEDOR_CONTRATISTA.str.replace('\"', '')\n",
    "    )\n",
    "    df = df.assign(\n",
    "        PROVEEDOR_CONTRATISTA=df.PROVEEDOR_CONTRATISTA.str.replace(\"'\", '')\n",
    "    )\n",
    "    df = df.assign(\n",
    "        PROVEEDOR_CONTRATISTA=df.PROVEEDOR_CONTRATISTA.map(remove_double_white_space)\n",
    "    )\n",
    "\n",
    "    for regex in endings_regex_list:\n",
    "        pattern = re.compile(regex)\n",
    "        df = df.assign(\n",
    "            PROVEEDOR_CONTRATISTA=df.PROVEEDOR_CONTRATISTA.map(\n",
    "                lambda string: remove_pattern(string, pattern))\n",
    "        )\n",
    "    df = df.assign(PROVEEDOR_CONTRATISTA=df.PROVEEDOR_CONTRATISTA.str.strip())\n",
    "    return df_rfc_fantasma\n",
    "    \n",
    "    "
   ]
  },
  {
   "cell_type": "code",
   "execution_count": null,
   "metadata": {},
   "outputs": [],
   "source": [
    "# def rfc_fantasma(df_procs, df_rfc_fantasma):\n",
    "#     df_feature = pd.DataFrame(\n",
    "#         data=df_procs_adquisiciones.CLAVEUC.unique(),\n",
    "#         columns=['CLAVEUC']\n",
    "#     )\n",
    "#     df = pd.merge(\n",
    "#         df_procs, df_rfc_fantasma,\n",
    "#         on='PROVEEDOR_CONTRATISTA', how='inner'\n",
    "#     )\n",
    "#     monto_por_contrato = df.groupby(\n",
    "#         ['DEPENDENCIA', 'CLAVEUC', 'PROVEEDOR_CONTRATISTA',\n",
    "#          'NUMERO_PROCEDIMIENTO', 'CODIGO_CONTRATO'],\n",
    "#         as_index=False\n",
    "#     ).IMPORTE_PESOS.sum()\n",
    "#     # número de proveedores fantasma por uc\n",
    "#     pocs_distintos = monto_por_contrato.groupby('CLAVEUC').PROVEEDOR_CONTRATISTA.nunique()\n",
    "#     pocs_distintos = pocs_distintos.reset_index()\n",
    "#     pocs_distintos = pocs_distintos.rename(\n",
    "#       columns={'PROVEEDOR_CONTRATISTA': 'num_proveedores_fantasma'})\n",
    "    \n",
    "#     # número de contratos con rfc fantasmas por uc\n",
    "#     contratos_total = monto_por_contrato.groupby(\n",
    "#         ['CLAVEUC', 'NUMERO_PROCEDIMIENTO']).CODIGO_CONTRATO.nunique()\n",
    "#     contratos_total = contratos_total.reset_index()\n",
    "#     contratos_total = contratos_total.rename(columns={'CODIGO_CONTRATO': 'contratos_con_fantasmas'})\n",
    "#     contratos_total = contratos_total.groupby('CLAVEUC', as_index=False).contratos_con_fantasmas.sum()\n",
    "    \n",
    "#     # monto con rfc fantasmas por uc\n",
    "#     monto_uc_contratos = monto_por_contrato.groupby(\n",
    "#         ['CLAVEUC', 'NUMERO_PROCEDIMIENTO', 'CODIGO_CONTRATO'], as_index=False\n",
    "#     ).IMPORTE_PESOS.sum()\n",
    "#     monto_uc_contratos = monto_uc_contratos.groupby('CLAVEUC', as_index=False).IMPORTE_PESOS.sum()\n",
    "#     monto_uc_contratos = monto_uc_contratos.rename(columns={'IMPORTE_PESOS': 'monto_fantasma'})\n",
    "    \n",
    "#     # join the features\n",
    "#     df_feature = pd.merge(df_feature, pocs_distintos, on='CLAVEUC', how='left')\n",
    "#     df_feature = pd.merge(df_feature, contratos_total, on='CLAVEUC', how='left')\n",
    "#     df_feature = pd.merge(df_feature, monto_uc_contratos, on='CLAVEUC', how='left')\n",
    "#     df_feature = df_feature.fillna(0)\n",
    "#     return df_feature"
   ]
  },
  {
   "cell_type": "code",
   "execution_count": null,
   "metadata": {},
   "outputs": [],
   "source": [
    "df_codigos_repeditos = pd.read_csv(\n",
    "    '../data/codigos_expediente_repetidos.csv', dtype=str, usecols=['CODIGO_EXPEDIENTE']\n",
    ")\n",
    "print(df_codigos_repeditos.shape, df_codigos_repeditos.CODIGO_EXPEDIENTE.nunique())\n",
    "df_codigos_repeditos.head(2)"
   ]
  },
  {
   "cell_type": "code",
   "execution_count": null,
   "metadata": {},
   "outputs": [],
   "source": [
    "# monto_por_contrato = df_procedimientos.groupby(\n",
    "#     ['FECHA_ARCHIVO', 'CLAVEUC', 'PROVEEDOR_CONTRATISTA', 'NUMERO_PROCEDIMIENTO', 'CODIGO_CONTRATO'],\n",
    "#     as_index=False\n",
    "# ).IMPORTE_PESOS.sum()\n",
    "\n",
    "# monto_archivo = monto_por_contrato.groupby('FECHA_ARCHIVO').IMPORTE_PESOS.sum()\n",
    "# monto_archivo\n",
    "\n",
    "# contratos_total = monto_por_contrato.groupby(\n",
    "#     ['FECHA_ARCHIVO', 'CLAVEUC', 'NUMERO_PROCEDIMIENTO']\n",
    "# ).CODIGO_CONTRATO.nunique()\n",
    "# contratos_total = contratos_total.reset_index()\n",
    "# contratos_total = contratos_total.groupby('FECHA_ARCHIVO').NUMERO_PROCEDIMIENTO.nunique()\n",
    "# contratos_total"
   ]
  },
  {
   "cell_type": "code",
   "execution_count": null,
   "metadata": {},
   "outputs": [],
   "source": [
    "# cols_id = [\n",
    "#     'DEPENDENCIA', 'CLAVEUC', 'PROVEEDOR_CONTRATISTA',\n",
    "#     'NUMERO_PROCEDIMIENTO', 'CODIGO_CONTRATO'\n",
    "# ]\n",
    "\n",
    "# missing_cols = [\n",
    "#     'EXP_F_FALLO', 'PROC_F_PUBLICACION',\n",
    "#     'FECHA_APERTURA_PROPOSICIONES',\n",
    "#     'FORMA_PROCEDIMIENTO', 'ANUNCIO', 'FECHA_CELEBRACION',\n",
    "#     'FECHA_INICIO', 'FECHA_FIN'\n",
    "# ]\n",
    "\n",
    "# df_cols = df_procedimientos.loc[:, cols_id + missing_cols]\n",
    "# monto_por_contrato = df_procedimientos.groupby(\n",
    "#     cols_id, as_index=False).IMPORTE_PESOS.sum()\n",
    "\n",
    "# df_feature = pd.merge(monto_por_contrato, df_cols, on=cols_id, how='inner')\n",
    "# df_feature = df_feature.assign(\n",
    "#     datos_faltantes=df_feature.loc[:, missing_cols].isnull().sum(axis=1)\n",
    "# )\n",
    "# df_feature = df_feature.groupby('CLAVEUC', as_index=False).datos_faltantes.mean()\n",
    "# df_feature.head()"
   ]
  }
 ],
 "metadata": {
  "kernelspec": {
   "display_name": "Python 3",
   "language": "python",
   "name": "python3"
  },
  "language_info": {
   "codemirror_mode": {
    "name": "ipython",
    "version": 3
   },
   "file_extension": ".py",
   "mimetype": "text/x-python",
   "name": "python",
   "nbconvert_exporter": "python",
   "pygments_lexer": "ipython3",
   "version": "3.6.1"
  }
 },
 "nbformat": 4,
 "nbformat_minor": 2
}
